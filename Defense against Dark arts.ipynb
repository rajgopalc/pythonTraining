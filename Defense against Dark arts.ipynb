{
 "cells": [
  {
   "cell_type": "code",
   "execution_count": 17,
   "id": "e0148d9a",
   "metadata": {},
   "outputs": [],
   "source": [
    "# Syntax Error"
   ]
  },
  {
   "cell_type": "code",
   "execution_count": 16,
   "id": "e8ba0808",
   "metadata": {},
   "outputs": [
    {
     "ename": "SyntaxError",
     "evalue": "Missing parentheses in call to 'print'. Did you mean print(Hello)? (3340075208.py, line 1)",
     "output_type": "error",
     "traceback": [
      "\u001b[0;36m  File \u001b[0;32m\"/tmp/ipykernel_1300908/3340075208.py\"\u001b[0;36m, line \u001b[0;32m1\u001b[0m\n\u001b[0;31m    print Hello\u001b[0m\n\u001b[0m          ^\u001b[0m\n\u001b[0;31mSyntaxError\u001b[0m\u001b[0;31m:\u001b[0m Missing parentheses in call to 'print'. Did you mean print(Hello)?\n"
     ]
    }
   ],
   "source": [
    "print Hello"
   ]
  },
  {
   "cell_type": "code",
   "execution_count": null,
   "id": "664cdca3",
   "metadata": {},
   "outputs": [],
   "source": [
    "# Errors detected during the execution of the program are called 'Exceptions' \n"
   ]
  },
  {
   "cell_type": "code",
   "execution_count": null,
   "id": "4330dcf9",
   "metadata": {},
   "outputs": [],
   "source": []
  },
  {
   "cell_type": "code",
   "execution_count": 22,
   "id": "4c0f5c0e",
   "metadata": {},
   "outputs": [],
   "source": [
    "def square(num):\n",
    "    try:\n",
    "        assert type(num) is int\n",
    "        return num*num\n",
    "    except AssertionError:\n",
    "        print(\"Hey,send me numbers!!\")"
   ]
  },
  {
   "cell_type": "code",
   "execution_count": 23,
   "id": "3bffa4dc",
   "metadata": {},
   "outputs": [
    {
     "data": {
      "text/plain": [
       "81"
      ]
     },
     "execution_count": 23,
     "metadata": {},
     "output_type": "execute_result"
    }
   ],
   "source": [
    "square(9)"
   ]
  },
  {
   "cell_type": "code",
   "execution_count": 24,
   "id": "78df7fe0",
   "metadata": {},
   "outputs": [
    {
     "name": "stdout",
     "output_type": "stream",
     "text": [
      "Hey,send me numbers!!\n"
     ]
    }
   ],
   "source": [
    "square('hi')"
   ]
  },
  {
   "cell_type": "code",
   "execution_count": 27,
   "id": "4a094ed2",
   "metadata": {},
   "outputs": [],
   "source": [
    "def square(num):\n",
    "    try:\n",
    "        assert type(num) is int\n",
    "        #raise RuntimeError\n",
    "        9/0\n",
    "        return num*num\n",
    "    except AssertionError:\n",
    "        print(\"Hey,send me numbers!!\")\n",
    "    #except:\n",
    "    #    print(\"Something else has happened here...App failed\")"
   ]
  },
  {
   "cell_type": "code",
   "execution_count": 28,
   "id": "371e2d25",
   "metadata": {},
   "outputs": [
    {
     "name": "stdout",
     "output_type": "stream",
     "text": [
      "I am the exception handler outside the method\n"
     ]
    }
   ],
   "source": [
    "try:\n",
    "    square(10)\n",
    "except:\n",
    "    print(\"I am the exception handler outside the method\")"
   ]
  },
  {
   "cell_type": "code",
   "execution_count": null,
   "id": "9b93059f",
   "metadata": {},
   "outputs": [],
   "source": []
  }
 ],
 "metadata": {
  "kernelspec": {
   "display_name": "Python 3 (ipykernel)",
   "language": "python",
   "name": "python3"
  },
  "language_info": {
   "codemirror_mode": {
    "name": "ipython",
    "version": 3
   },
   "file_extension": ".py",
   "mimetype": "text/x-python",
   "name": "python",
   "nbconvert_exporter": "python",
   "pygments_lexer": "ipython3",
   "version": "3.8.8"
  }
 },
 "nbformat": 4,
 "nbformat_minor": 5
}

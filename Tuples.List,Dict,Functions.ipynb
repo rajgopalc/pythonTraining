{
 "cells": [
  {
   "cell_type": "markdown",
   "id": "a56d93e4",
   "metadata": {},
   "source": [
    "## TUPLE, LIST & DICTIONARIES"
   ]
  },
  {
   "cell_type": "markdown",
   "id": "c9002bfa",
   "metadata": {},
   "source": [
    "#### Tuples are immutable collection of data (which can be of different data types) whereas List is mutable collection\n",
    "\n",
    "#### One of the biggest advantages of tuples is to return multiple item from a function which otherwise can only return one item"
   ]
  },
  {
   "cell_type": "code",
   "execution_count": 9,
   "id": "39a5629f",
   "metadata": {},
   "outputs": [],
   "source": [
    "L = [1,2,3]"
   ]
  },
  {
   "cell_type": "code",
   "execution_count": 10,
   "id": "e83f9193",
   "metadata": {},
   "outputs": [
    {
     "data": {
      "text/plain": [
       "139752003754752"
      ]
     },
     "execution_count": 10,
     "metadata": {},
     "output_type": "execute_result"
    }
   ],
   "source": [
    "id(L)"
   ]
  },
  {
   "cell_type": "code",
   "execution_count": 11,
   "id": "bc69890e",
   "metadata": {},
   "outputs": [
    {
     "data": {
      "text/plain": [
       "[1, 2, 3, 4]"
      ]
     },
     "execution_count": 11,
     "metadata": {},
     "output_type": "execute_result"
    }
   ],
   "source": [
    "L.append(4)\n",
    "L"
   ]
  },
  {
   "cell_type": "code",
   "execution_count": 12,
   "id": "5ed09b26",
   "metadata": {},
   "outputs": [
    {
     "data": {
      "text/plain": [
       "139752003754752"
      ]
     },
     "execution_count": 12,
     "metadata": {},
     "output_type": "execute_result"
    }
   ],
   "source": [
    "id(L)"
   ]
  },
  {
   "cell_type": "code",
   "execution_count": 13,
   "id": "64d9d0d0",
   "metadata": {},
   "outputs": [],
   "source": [
    "T = (1,2,\"3\")"
   ]
  },
  {
   "cell_type": "code",
   "execution_count": 14,
   "id": "f01f8860",
   "metadata": {},
   "outputs": [
    {
     "data": {
      "text/plain": [
       "139751449339072"
      ]
     },
     "execution_count": 14,
     "metadata": {},
     "output_type": "execute_result"
    }
   ],
   "source": [
    "id(T)"
   ]
  },
  {
   "cell_type": "code",
   "execution_count": 17,
   "id": "6d1cfa94",
   "metadata": {},
   "outputs": [
    {
     "data": {
      "text/plain": [
       "(1, 2, '3', 3, 3)"
      ]
     },
     "execution_count": 17,
     "metadata": {},
     "output_type": "execute_result"
    }
   ],
   "source": [
    "T = (1,2,3)\n",
    "T = T+(3,)\n",
    "T"
   ]
  },
  {
   "cell_type": "code",
   "execution_count": 16,
   "id": "dbc31133",
   "metadata": {},
   "outputs": [
    {
     "data": {
      "text/plain": [
       "139751449329312"
      ]
     },
     "execution_count": 16,
     "metadata": {},
     "output_type": "execute_result"
    }
   ],
   "source": [
    "id(T) "
   ]
  },
  {
   "cell_type": "code",
   "execution_count": 19,
   "id": "87eaae9d",
   "metadata": {},
   "outputs": [
    {
     "data": {
      "text/plain": [
       "[1, 2, 3, 4, 5, 6, 5, 6]"
      ]
     },
     "execution_count": 19,
     "metadata": {},
     "output_type": "execute_result"
    }
   ],
   "source": [
    "L = L + [5,6]\n",
    "L"
   ]
  },
  {
   "cell_type": "code",
   "execution_count": 20,
   "id": "d6bed16c",
   "metadata": {},
   "outputs": [
    {
     "data": {
      "text/plain": [
       "139751440646080"
      ]
     },
     "execution_count": 20,
     "metadata": {},
     "output_type": "execute_result"
    }
   ],
   "source": [
    "id(L) #Now it is not mutating, its a new list"
   ]
  },
  {
   "cell_type": "code",
   "execution_count": 22,
   "id": "b95d66ed",
   "metadata": {},
   "outputs": [
    {
     "data": {
      "text/plain": [
       "[1, 2, 3, 7, 7]"
      ]
     },
     "execution_count": 22,
     "metadata": {},
     "output_type": "execute_result"
    }
   ],
   "source": [
    "L = [1,2,3]\n",
    "L.extend([7,7])\n",
    "L"
   ]
  },
  {
   "cell_type": "code",
   "execution_count": 47,
   "id": "6f1cca39",
   "metadata": {},
   "outputs": [
    {
     "data": {
      "text/plain": [
       "139783135162624"
      ]
     },
     "execution_count": 47,
     "metadata": {},
     "output_type": "execute_result"
    }
   ],
   "source": [
    "id(L)"
   ]
  },
  {
   "cell_type": "code",
   "execution_count": 23,
   "id": "0d384735",
   "metadata": {},
   "outputs": [
    {
     "data": {
      "text/plain": [
       "[1, 2, 3, 7, 7]"
      ]
     },
     "execution_count": 23,
     "metadata": {},
     "output_type": "execute_result"
    }
   ],
   "source": [
    "L"
   ]
  },
  {
   "cell_type": "code",
   "execution_count": 24,
   "id": "205f314e",
   "metadata": {},
   "outputs": [
    {
     "data": {
      "text/plain": [
       "[1, 2, 3, 7]"
      ]
     },
     "execution_count": 24,
     "metadata": {},
     "output_type": "execute_result"
    }
   ],
   "source": [
    "L.remove(7)\n",
    "L"
   ]
  },
  {
   "cell_type": "code",
   "execution_count": 27,
   "id": "67e6e45d",
   "metadata": {},
   "outputs": [
    {
     "data": {
      "text/plain": [
       "[2, 3, 7]"
      ]
     },
     "execution_count": 27,
     "metadata": {},
     "output_type": "execute_result"
    }
   ],
   "source": [
    "del[L[0]]\n",
    "L"
   ]
  },
  {
   "cell_type": "code",
   "execution_count": 28,
   "id": "ff7fb703",
   "metadata": {},
   "outputs": [
    {
     "data": {
      "text/plain": [
       "7"
      ]
     },
     "execution_count": 28,
     "metadata": {},
     "output_type": "execute_result"
    }
   ],
   "source": [
    "L.pop()"
   ]
  },
  {
   "cell_type": "code",
   "execution_count": 29,
   "id": "220ba95c",
   "metadata": {},
   "outputs": [
    {
     "data": {
      "text/plain": [
       "[2, 3]"
      ]
     },
     "execution_count": 29,
     "metadata": {},
     "output_type": "execute_result"
    }
   ],
   "source": [
    "L"
   ]
  },
  {
   "cell_type": "code",
   "execution_count": 72,
   "id": "8b1aa929",
   "metadata": {},
   "outputs": [],
   "source": [
    "(t1,t2)=(1,2)"
   ]
  },
  {
   "cell_type": "code",
   "execution_count": 73,
   "id": "99ba2af9",
   "metadata": {},
   "outputs": [],
   "source": [
    "t1,t2 = t2,t1"
   ]
  },
  {
   "cell_type": "code",
   "execution_count": 74,
   "id": "b00689f5",
   "metadata": {},
   "outputs": [
    {
     "data": {
      "text/plain": [
       "(2, 1)"
      ]
     },
     "execution_count": 74,
     "metadata": {},
     "output_type": "execute_result"
    }
   ],
   "source": [
    "#Tuple Swapped\n",
    "(t1,t2)"
   ]
  },
  {
   "cell_type": "code",
   "execution_count": 43,
   "id": "a419a179",
   "metadata": {},
   "outputs": [],
   "source": [
    "## But that is not the same in Lists\n",
    "hot = ['red']\n",
    "warm = hot"
   ]
  },
  {
   "cell_type": "code",
   "execution_count": 44,
   "id": "64b60a94",
   "metadata": {},
   "outputs": [],
   "source": [
    "hot.append('burn')"
   ]
  },
  {
   "cell_type": "code",
   "execution_count": 45,
   "id": "4603805c",
   "metadata": {},
   "outputs": [
    {
     "data": {
      "text/plain": [
       "['red', 'burn']"
      ]
     },
     "execution_count": 45,
     "metadata": {},
     "output_type": "execute_result"
    }
   ],
   "source": [
    "warm  # Warm changes when we append to hot!"
   ]
  },
  {
   "cell_type": "code",
   "execution_count": 46,
   "id": "defccf3e",
   "metadata": {},
   "outputs": [],
   "source": [
    "#In order to prevent this, we need to clone\n",
    "hottest = hot[:]"
   ]
  },
  {
   "cell_type": "code",
   "execution_count": 47,
   "id": "2eb4287a",
   "metadata": {},
   "outputs": [],
   "source": [
    "hot.append('spicy')"
   ]
  },
  {
   "cell_type": "code",
   "execution_count": 48,
   "id": "9bd6d2fc",
   "metadata": {},
   "outputs": [
    {
     "data": {
      "text/plain": [
       "['red', 'burn']"
      ]
     },
     "execution_count": 48,
     "metadata": {},
     "output_type": "execute_result"
    }
   ],
   "source": [
    "hottest"
   ]
  },
  {
   "cell_type": "code",
   "execution_count": 49,
   "id": "3349cc46",
   "metadata": {},
   "outputs": [
    {
     "data": {
      "text/plain": [
       "['red', 'burn', 'spicy']"
      ]
     },
     "execution_count": 49,
     "metadata": {},
     "output_type": "execute_result"
    }
   ],
   "source": [
    "warm"
   ]
  },
  {
   "cell_type": "code",
   "execution_count": 50,
   "id": "802d46ea",
   "metadata": {},
   "outputs": [],
   "source": [
    "nums = [3,4,5,2,9]"
   ]
  },
  {
   "cell_type": "code",
   "execution_count": 51,
   "id": "d91cd161",
   "metadata": {},
   "outputs": [
    {
     "data": {
      "text/plain": [
       "[9, 2, 5, 4, 3]"
      ]
     },
     "execution_count": 51,
     "metadata": {},
     "output_type": "execute_result"
    }
   ],
   "source": [
    "nums.reverse()\n",
    "nums"
   ]
  },
  {
   "cell_type": "code",
   "execution_count": 52,
   "id": "06588da9",
   "metadata": {
    "scrolled": true
   },
   "outputs": [
    {
     "data": {
      "text/plain": [
       "['spicy', 'burn', 'red']"
      ]
     },
     "execution_count": 52,
     "metadata": {},
     "output_type": "execute_result"
    }
   ],
   "source": [
    "warm.reverse()\n",
    "warm"
   ]
  },
  {
   "cell_type": "code",
   "execution_count": 54,
   "id": "98464e4c",
   "metadata": {},
   "outputs": [],
   "source": [
    "## Dictionary - key:value pairs\n",
    "d = {'k1':1,'k2':2,3:'k3'}"
   ]
  },
  {
   "cell_type": "code",
   "execution_count": 55,
   "id": "8f434546",
   "metadata": {},
   "outputs": [
    {
     "data": {
      "text/plain": [
       "'k3'"
      ]
     },
     "execution_count": 55,
     "metadata": {},
     "output_type": "execute_result"
    }
   ],
   "source": [
    "d[3]"
   ]
  },
  {
   "cell_type": "code",
   "execution_count": 56,
   "id": "f5c4d42f",
   "metadata": {},
   "outputs": [
    {
     "data": {
      "text/plain": [
       "1"
      ]
     },
     "execution_count": 56,
     "metadata": {},
     "output_type": "execute_result"
    }
   ],
   "source": [
    "d['k1']"
   ]
  },
  {
   "cell_type": "code",
   "execution_count": 6,
   "id": "d2aa3fa3",
   "metadata": {},
   "outputs": [],
   "source": [
    "emojis = {\n",
    "    'smile':'😊',\n",
    "    'laugh':'😄',\n",
    "    'diss': '😒',\n",
    "    'angel':'😇',\n",
    "    'cool':'😎',\n",
    "}"
   ]
  },
  {
   "cell_type": "code",
   "execution_count": 58,
   "id": "0740c12a",
   "metadata": {},
   "outputs": [],
   "source": [
    "sentence = \"Python is cool and it makes me smile. I feel angelic and diss at the thought of using any other language.\""
   ]
  },
  {
   "cell_type": "code",
   "execution_count": 61,
   "id": "8a331fbc",
   "metadata": {},
   "outputs": [
    {
     "data": {
      "text/plain": [
       "['Python',\n",
       " 'is',\n",
       " 'cool',\n",
       " 'and',\n",
       " 'it',\n",
       " 'makes',\n",
       " 'me',\n",
       " 'smile.',\n",
       " 'I',\n",
       " 'feel',\n",
       " 'angelic',\n",
       " 'and',\n",
       " 'diss',\n",
       " 'at',\n",
       " 'the',\n",
       " 'thought',\n",
       " 'of',\n",
       " 'using',\n",
       " 'any',\n",
       " 'other',\n",
       " 'language.']"
      ]
     },
     "execution_count": 61,
     "metadata": {},
     "output_type": "execute_result"
    }
   ],
   "source": [
    "words = sentence.split(\" \")\n",
    "words"
   ]
  },
  {
   "cell_type": "code",
   "execution_count": 149,
   "id": "cf300866",
   "metadata": {},
   "outputs": [
    {
     "data": {
      "text/plain": [
       "'Python is 😎 and it makes me smile. I feel angelic and 😒 at the thought of using any other language.'"
      ]
     },
     "execution_count": 149,
     "metadata": {},
     "output_type": "execute_result"
    }
   ],
   "source": [
    "output=[]\n",
    "for word in words:\n",
    "        if(word in emojis.keys()):\n",
    "            output.append(emojis[word])\n",
    "        else:\n",
    "            output.append(word)\n",
    "    \n",
    "' '.join(output)"
   ]
  },
  {
   "cell_type": "markdown",
   "id": "f06bc283",
   "metadata": {},
   "source": [
    "## FUNCTIONS\n",
    "##### DECOMPOSITION & ABSTRACTION"
   ]
  },
  {
   "cell_type": "code",
   "execution_count": 63,
   "id": "5ddb0ef1",
   "metadata": {},
   "outputs": [],
   "source": [
    "def fnName(args):\n",
    "    print(args)"
   ]
  },
  {
   "cell_type": "code",
   "execution_count": 65,
   "id": "ec986b33",
   "metadata": {},
   "outputs": [
    {
     "name": "stdout",
     "output_type": "stream",
     "text": [
      "hi\n"
     ]
    }
   ],
   "source": [
    "fnName(\"hi\")"
   ]
  },
  {
   "cell_type": "markdown",
   "id": "e8d16291",
   "metadata": {},
   "source": [
    "### DOCSTRING"
   ]
  },
  {
   "cell_type": "code",
   "execution_count": 66,
   "id": "8fd33905",
   "metadata": {},
   "outputs": [
    {
     "data": {
      "text/plain": [
       "'\\n        Takes a single arguments and prints the same\\n    '"
      ]
     },
     "execution_count": 66,
     "metadata": {},
     "output_type": "execute_result"
    }
   ],
   "source": [
    "def fnName(args):\n",
    "    \"\"\"\n",
    "        Takes a single arguments and prints the same\n",
    "    \"\"\"\n",
    "    print(args)\n",
    "\n",
    "fnName.__doc__"
   ]
  },
  {
   "cell_type": "code",
   "execution_count": 8,
   "id": "11a2c064",
   "metadata": {},
   "outputs": [],
   "source": [
    "def getEmojiFromSubString(word):\n",
    "    for k in emojis.keys():\n",
    "        if(k in word):\n",
    "            #print(word)\n",
    "            word = word.replace(k,emojis.get(k))\n",
    "            #print(word)\n",
    "        else:\n",
    "            continue\n",
    "    return word"
   ]
  },
  {
   "cell_type": "code",
   "execution_count": 4,
   "id": "92c0a78e",
   "metadata": {},
   "outputs": [],
   "source": [
    "sentence = \"Python is cool and it makes me smile. I feel angelic and diss at the thought of using any other language.\""
   ]
  },
  {
   "cell_type": "code",
   "execution_count": 9,
   "id": "0f89e75e",
   "metadata": {},
   "outputs": [
    {
     "data": {
      "text/plain": [
       "'Python is 😎 and it makes me 😊. I feel 😇ic and 😒 at the thought of using any other language.'"
      ]
     },
     "execution_count": 9,
     "metadata": {},
     "output_type": "execute_result"
    }
   ],
   "source": [
    "words = sentence.split(\" \")\n",
    "output=[]\n",
    "for word in words:\n",
    "        if(word in emojis.keys()):\n",
    "            output.append(emojis[word])\n",
    "        else:\n",
    "            output.append(getEmojiFromSubString(word))\n",
    "    \n",
    "' '.join(output)"
   ]
  },
  {
   "cell_type": "code",
   "execution_count": null,
   "id": "f58eb72e",
   "metadata": {},
   "outputs": [],
   "source": []
  },
  {
   "cell_type": "code",
   "execution_count": null,
   "id": "51d06adb",
   "metadata": {},
   "outputs": [],
   "source": []
  },
  {
   "cell_type": "code",
   "execution_count": null,
   "id": "a1e62b8f",
   "metadata": {},
   "outputs": [],
   "source": []
  }
 ],
 "metadata": {
  "kernelspec": {
   "display_name": "Python 3 (ipykernel)",
   "language": "python",
   "name": "python3"
  },
  "language_info": {
   "codemirror_mode": {
    "name": "ipython",
    "version": 3
   },
   "file_extension": ".py",
   "mimetype": "text/x-python",
   "name": "python",
   "nbconvert_exporter": "python",
   "pygments_lexer": "ipython3",
   "version": "3.8.8"
  }
 },
 "nbformat": 4,
 "nbformat_minor": 5
}

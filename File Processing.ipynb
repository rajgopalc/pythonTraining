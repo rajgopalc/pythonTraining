{
 "cells": [
  {
   "cell_type": "markdown",
   "id": "7ebb7a0a",
   "metadata": {},
   "source": [
    "#### FILE PROCESSING IN PYTHON"
   ]
  },
  {
   "cell_type": "markdown",
   "id": "31128647",
   "metadata": {},
   "source": [
    "open() method is used to open a file in read or write mode. The open method returns a file object (a file pointer in C parlance).\n",
    "\n",
    "Modes in which file can be opened:\n",
    "<table>\n",
    "<tr>\n",
    "<th style=\"text-align:left;\">Sr.No.</th>\n",
    "<th style=\"text-align:left;\">Modes &amp; Description</th>\n",
    "</tr>\n",
    "<tr>\n",
    "<td>1</td>\n",
    "<td><p><b>r</b></p>\n",
    "<p>Opens a file for reading only. The file pointer is placed at the beginning of the file. This is the default mode.</p></td>\n",
    "</tr>\n",
    "<tr>\n",
    "<td class=\"ts\">2</td>\n",
    "<td><p><b>rb</b></p>\n",
    "<p>Opens a file for reading only in binary format. The file pointer is placed at the beginning of the file. This is the default mode.</p></td>\n",
    "</tr>\n",
    "<tr>\n",
    "<td class=\"ts\">3</td>\n",
    "<td><p><b>r+</b></p>\n",
    "<p>Opens a file for both reading and writing. The file pointer placed at the beginning of the file.</p></td>\n",
    "</tr>\n",
    "<tr>\n",
    "<td class=\"ts\">4</td>\n",
    "<td><p><b>rb+</b></p>\n",
    "<p>Opens a file for both reading and writing in binary format. The file pointer placed at the beginning of the file.</p></td>\n",
    "</tr>\n",
    "<tr>\n",
    "<td class=\"ts\">5</td>\n",
    "<td><p><b>w</b></p>\n",
    "<p>Opens a file for writing only. Overwrites the file if the file exists. If the file does not exist, creates a new file for writing.</p></td>\n",
    "</tr>\n",
    "<tr>\n",
    "<td class=\"ts\">6</td>\n",
    "<td><p><b>wb</b></p>\n",
    "<p>Opens a file for writing only in binary format. Overwrites the file if the file exists. If the file does not exist, creates a new file for writing.</p></td>\n",
    "</tr>\n",
    "<tr>\n",
    "<td class=\"ts\">7</td>\n",
    "<td><p><b>w+</b></p>\n",
    "<p>Opens a file for both writing and reading. Overwrites the existing file if the file exists. If the file does not exist, creates a new file for reading and writing.</p></td>\n",
    "</tr> \n",
    "<tr>\n",
    "<td class=\"ts\">8</td>\n",
    "<td><p><b>wb+</b></p>\n",
    "<p>Opens a file for both writing and reading in binary format. Overwrites the existing file if the file exists. If the file does not exist, creates a new file for reading and writing.</p></td>\n",
    "</tr>\n",
    "<tr>\n",
    "<td class=\"ts\">9</td>\n",
    "<td><p><b>a</b></p>\n",
    "<p>Opens a file for appending. The file pointer is at the end of the file if the file exists. That is, the file is in the append mode. If the file does not exist, it creates a new file for writing.</p></td>\n",
    "</tr> \n",
    "<tr>\n",
    "<td class=\"ts\">10</td>\n",
    "<td><p><b>ab</b></p>\n",
    "<p>Opens a file for appending in binary format. The file pointer is at the end of the file if the file exists. That is, the file is in the append mode. If the file does not exist, it creates a new file for writing.</p></td>\n",
    "</tr> \n",
    "<tr>\n",
    "<td class=\"ts\">11</td>\n",
    "<td><p><b>a+</b></p>\n",
    "<p>Opens a file for both appending and reading. The file pointer is at the end of the file if the file exists. The file opens in the append mode. If the file does not exist, it creates a new file for reading and writing.</p></td>\n",
    "</tr> \n",
    "<tr>\n",
    "<td class=\"ts\">12</td>\n",
    "<td><p><b>ab+</b></p>\n",
    "<p>Opens a file for both appending and reading in binary format. The file pointer is at the end of the file if the file exists. The file opens in the append mode. If the file does not exist, it creates a new file for reading and writing.</p></td>\n",
    "</tr>\n",
    "</table>\n"
   ]
  },
  {
   "cell_type": "code",
   "execution_count": 1,
   "id": "51e0e724",
   "metadata": {},
   "outputs": [],
   "source": [
    "file = open('pyFile.txt','w+') "
   ]
  },
  {
   "cell_type": "code",
   "execution_count": 2,
   "id": "2aa1805e",
   "metadata": {},
   "outputs": [],
   "source": [
    "for line in file:\n",
    "    print(line)"
   ]
  },
  {
   "cell_type": "code",
   "execution_count": 3,
   "id": "80e28c05",
   "metadata": {},
   "outputs": [],
   "source": [
    "with file as writer:\n",
    "    writer.write(\"REMEMBER \\n\")\n",
    "    writer.write(\"THIS \\n\")"
   ]
  },
  {
   "cell_type": "code",
   "execution_count": 4,
   "id": "e6d06124",
   "metadata": {},
   "outputs": [
    {
     "name": "stdout",
     "output_type": "stream",
     "text": [
      "REMEMBER \n",
      "THIS \n"
     ]
    }
   ],
   "source": [
    "file = open('pyFile.txt','r')\n",
    "for line in file:\n",
    "    print(line,end=\"\")\n"
   ]
  },
  {
   "cell_type": "code",
   "execution_count": 5,
   "id": "d04024e0",
   "metadata": {},
   "outputs": [],
   "source": [
    "f = open('pyFile.txt','r+')"
   ]
  },
  {
   "cell_type": "code",
   "execution_count": 6,
   "id": "abe76237",
   "metadata": {},
   "outputs": [
    {
     "data": {
      "text/plain": [
       "['REMEMBER \\n', 'THIS \\n']"
      ]
     },
     "execution_count": 6,
     "metadata": {},
     "output_type": "execute_result"
    }
   ],
   "source": [
    "list_lines = f.readlines()\n",
    "list_lines"
   ]
  },
  {
   "cell_type": "code",
   "execution_count": 7,
   "id": "52716278",
   "metadata": {},
   "outputs": [
    {
     "name": "stdout",
     "output_type": "stream",
     "text": [
      "REMEMBER \n",
      "THIS \n"
     ]
    }
   ],
   "source": [
    "for lines in list_lines:\n",
    "    print(lines,end='')"
   ]
  },
  {
   "cell_type": "code",
   "execution_count": 8,
   "id": "6af96d35",
   "metadata": {},
   "outputs": [
    {
     "data": {
      "text/plain": [
       "False"
      ]
     },
     "execution_count": 8,
     "metadata": {},
     "output_type": "execute_result"
    }
   ],
   "source": [
    "f.closed"
   ]
  },
  {
   "cell_type": "code",
   "execution_count": 9,
   "id": "da1508ff",
   "metadata": {},
   "outputs": [],
   "source": [
    "f.close()"
   ]
  },
  {
   "cell_type": "code",
   "execution_count": 10,
   "id": "71dd1bb2",
   "metadata": {},
   "outputs": [
    {
     "data": {
      "text/plain": [
       "True"
      ]
     },
     "execution_count": 10,
     "metadata": {},
     "output_type": "execute_result"
    }
   ],
   "source": [
    "f.closed"
   ]
  },
  {
   "cell_type": "code",
   "execution_count": 11,
   "id": "e4c80e1c",
   "metadata": {},
   "outputs": [
    {
     "name": "stdout",
     "output_type": "stream",
     "text": [
      "REMEMBER \n",
      "THIS \n"
     ]
    }
   ],
   "source": [
    "with open('pyFile.txt','r+') as f:\n",
    "    list_lines = f.readlines()\n",
    "    for lines in list_lines:\n",
    "        print(lines,end='')"
   ]
  },
  {
   "cell_type": "code",
   "execution_count": 12,
   "id": "56348e95",
   "metadata": {},
   "outputs": [
    {
     "data": {
      "text/plain": [
       "True"
      ]
     },
     "execution_count": 12,
     "metadata": {},
     "output_type": "execute_result"
    }
   ],
   "source": [
    "f.closed"
   ]
  },
  {
   "cell_type": "code",
   "execution_count": 13,
   "id": "508c2f23",
   "metadata": {},
   "outputs": [
    {
     "name": "stdout",
     "output_type": "stream",
     "text": [
      "1\n",
      "EMEMBER \n",
      "THIS \n"
     ]
    }
   ],
   "source": [
    "with open('pyFile.txt','a+') as f:\n",
    "    #f.writelines(['Hello\\n','World\\n'])\n",
    "    f.seek(1)\n",
    "    print(f.tell())\n",
    "    for lines in f:\n",
    "        print(lines,end=\"\")"
   ]
  },
  {
   "cell_type": "code",
   "execution_count": 14,
   "id": "d9113839",
   "metadata": {},
   "outputs": [],
   "source": [
    "from string import Template"
   ]
  },
  {
   "cell_type": "code",
   "execution_count": 15,
   "id": "4f29bf13",
   "metadata": {},
   "outputs": [],
   "source": [
    "from openpyxl import Workbook"
   ]
  },
  {
   "cell_type": "code",
   "execution_count": 16,
   "id": "eb24a56c",
   "metadata": {},
   "outputs": [],
   "source": [
    "from openpyxl.utils import get_column_letter"
   ]
  },
  {
   "cell_type": "code",
   "execution_count": 17,
   "id": "2d1055c7",
   "metadata": {},
   "outputs": [],
   "source": [
    "wb = Workbook()"
   ]
  },
  {
   "cell_type": "code",
   "execution_count": 18,
   "id": "c175f633",
   "metadata": {},
   "outputs": [],
   "source": [
    "dest_filename = 'py_book.xlsx'"
   ]
  },
  {
   "cell_type": "code",
   "execution_count": 19,
   "id": "4ad5bb70",
   "metadata": {},
   "outputs": [],
   "source": [
    "ws1 = wb.active"
   ]
  },
  {
   "cell_type": "code",
   "execution_count": 20,
   "id": "3e9e8bd4",
   "metadata": {},
   "outputs": [],
   "source": [
    "ws1.title = \"range names\""
   ]
  },
  {
   "cell_type": "code",
   "execution_count": 21,
   "id": "84a12370",
   "metadata": {},
   "outputs": [],
   "source": [
    "for row in range(1, 40):\n",
    "    ws1.append(range(600))\n"
   ]
  },
  {
   "cell_type": "code",
   "execution_count": 22,
   "id": "009762af",
   "metadata": {},
   "outputs": [],
   "source": [
    "ws2 = wb.create_sheet(title=\"Pi\")"
   ]
  },
  {
   "cell_type": "code",
   "execution_count": 23,
   "id": "9edfbb88",
   "metadata": {},
   "outputs": [],
   "source": [
    "ws2['F5'] = 3.14"
   ]
  },
  {
   "cell_type": "code",
   "execution_count": 24,
   "id": "6427983b",
   "metadata": {},
   "outputs": [],
   "source": [
    "wb.save(filename = dest_filename)"
   ]
  },
  {
   "cell_type": "code",
   "execution_count": 25,
   "id": "6d442262",
   "metadata": {},
   "outputs": [],
   "source": [
    "from openpyxl import load_workbook\n",
    "wb = load_workbook('py_book.xlsx')\n",
    "sheet_ranges = wb['range names']"
   ]
  },
  {
   "cell_type": "code",
   "execution_count": 26,
   "id": "4c8e63e6",
   "metadata": {},
   "outputs": [
    {
     "name": "stdout",
     "output_type": "stream",
     "text": [
      "3\n"
     ]
    }
   ],
   "source": [
    "print(sheet_ranges['D18'].value)"
   ]
  },
  {
   "cell_type": "code",
   "execution_count": 27,
   "id": "cb4ba78f",
   "metadata": {},
   "outputs": [],
   "source": [
    "import pandas as pd"
   ]
  },
  {
   "cell_type": "code",
   "execution_count": 28,
   "id": "bcf85254",
   "metadata": {},
   "outputs": [
    {
     "data": {
      "text/plain": [
       "<function pandas.io.excel._base.read_excel(io, sheet_name=0, header=0, names=None, index_col=None, usecols=None, squeeze=False, dtype: 'DtypeArg | None' = None, engine=None, converters=None, true_values=None, false_values=None, skiprows=None, nrows=None, na_values=None, keep_default_na=True, na_filter=True, verbose=False, parse_dates=False, date_parser=None, thousands=None, comment=None, skipfooter=0, convert_float=None, mangle_dupe_cols=True, storage_options: 'StorageOptions' = None)>"
      ]
     },
     "execution_count": 28,
     "metadata": {},
     "output_type": "execute_result"
    }
   ],
   "source": [
    "pd.read_excel #Dataframe"
   ]
  },
  {
   "cell_type": "code",
   "execution_count": 29,
   "id": "646ed94e",
   "metadata": {},
   "outputs": [
    {
     "data": {
      "text/plain": [
       "pandas.io.excel._base.ExcelWriter"
      ]
     },
     "execution_count": 29,
     "metadata": {},
     "output_type": "execute_result"
    }
   ],
   "source": [
    "pd.ExcelWriter"
   ]
  },
  {
   "cell_type": "code",
   "execution_count": null,
   "id": "80245abd",
   "metadata": {},
   "outputs": [],
   "source": []
  },
  {
   "cell_type": "code",
   "execution_count": null,
   "id": "796b6b1a",
   "metadata": {},
   "outputs": [],
   "source": []
  }
 ],
 "metadata": {
  "kernelspec": {
   "display_name": "Python 3 (ipykernel)",
   "language": "python",
   "name": "python3"
  },
  "language_info": {
   "codemirror_mode": {
    "name": "ipython",
    "version": 3
   },
   "file_extension": ".py",
   "mimetype": "text/x-python",
   "name": "python",
   "nbconvert_exporter": "python",
   "pygments_lexer": "ipython3",
   "version": "3.8.8"
  }
 },
 "nbformat": 4,
 "nbformat_minor": 5
}

{
 "cells": [
  {
   "cell_type": "markdown",
   "id": "076ce17e",
   "metadata": {},
   "source": [
    "# Comparison Operators"
   ]
  },
  {
   "cell_type": "markdown",
   "id": "884573be",
   "metadata": {},
   "source": [
    "###  i and j are variables. The following comparisons are going to evaluate to a Boolean\n",
    "\n",
    "#### i > j\n",
    "#### i >= j\n",
    "#### i < j\n",
    "#### i <=j\n",
    "#### i == j\n",
    "#### i != j"
   ]
  },
  {
   "cell_type": "markdown",
   "id": "3756c528",
   "metadata": {},
   "source": [
    "# Logical Operators\n",
    "\n",
    "## AND & OR\n",
    "\n",
    "\n",
    "<table style=\"border:1;width:100%\">\n",
    "        <tr>\n",
    "            <th>A</th>\n",
    "            <th>B</th>\n",
    "            <th>A and B </th>\n",
    "            <th>A or B</th>\n",
    "        </tr>\n",
    "        <tr>\n",
    "            <td>True</td>\n",
    "            <td>True</td>\n",
    "            <td>True</td>\n",
    "            <td>True</td>\n",
    "        </tr>\n",
    "     <tr>\n",
    "            <td>True</td>\n",
    "            <td>False</td>\n",
    "            <td>False</td>\n",
    "            <td>True</td>\n",
    "        </tr>\n",
    "     <tr>\n",
    "            <td>False</td>\n",
    "            <td>True</td>\n",
    "            <td>False</td>\n",
    "            <td>True</td>\n",
    "        </tr>\n",
    "     <tr>\n",
    "            <td>False</td>\n",
    "            <td>False</td>\n",
    "            <td>False</td>\n",
    "            <td>False</td>\n",
    "        </tr>\n",
    "</table>\n",
    "\n",
    "\n",
    "## NOT OPERATOR"
   ]
  },
  {
   "cell_type": "code",
   "execution_count": 1,
   "id": "73cd5221",
   "metadata": {},
   "outputs": [
    {
     "data": {
      "text/plain": [
       "True"
      ]
     },
     "execution_count": 1,
     "metadata": {},
     "output_type": "execute_result"
    }
   ],
   "source": [
    "not False"
   ]
  },
  {
   "cell_type": "code",
   "execution_count": 2,
   "id": "62dcf146",
   "metadata": {},
   "outputs": [
    {
     "data": {
      "text/plain": [
       "False"
      ]
     },
     "execution_count": 2,
     "metadata": {},
     "output_type": "execute_result"
    }
   ],
   "source": [
    "not True"
   ]
  },
  {
   "cell_type": "markdown",
   "id": "14fff6f8",
   "metadata": {},
   "source": [
    "# CODE BRANCHING"
   ]
  },
  {
   "cell_type": "code",
   "execution_count": 3,
   "id": "463e155c",
   "metadata": {},
   "outputs": [
    {
     "name": "stdout",
     "output_type": "stream",
     "text": [
      "Its True\n"
     ]
    }
   ],
   "source": [
    "is_True = \"True\"\n",
    "is_False = False\n",
    "if (is_True):\n",
    "    print( \"Its True\" )\n",
    "else:\n",
    "    print ( \"Its False\" )"
   ]
  },
  {
   "cell_type": "code",
   "execution_count": 4,
   "id": "f9332851",
   "metadata": {},
   "outputs": [
    {
     "name": "stdout",
     "output_type": "stream",
     "text": [
      "Its True\n"
     ]
    }
   ],
   "source": [
    "is_True = True\n",
    "is_False = not is_True\n",
    "if (is_True):\n",
    "    print( \"Its True\" )\n",
    "elif (is_False):\n",
    "    print ( \"Its False\" )\n",
    "else:\n",
    "    print(\"Its neither true or false\")\n",
    "    "
   ]
  },
  {
   "cell_type": "markdown",
   "id": "2b592b90",
   "metadata": {},
   "source": [
    "# CODE ITERATION"
   ]
  },
  {
   "cell_type": "code",
   "execution_count": 5,
   "id": "c1852b6f",
   "metadata": {},
   "outputs": [
    {
     "name": "stdout",
     "output_type": "stream",
     "text": [
      "0\n",
      "1\n",
      "2\n",
      "3\n",
      "4\n"
     ]
    }
   ],
   "source": [
    "i = 0\n",
    "while i < 5 :\n",
    "    print(i)\n",
    "    i+=1\n"
   ]
  },
  {
   "cell_type": "markdown",
   "id": "045cc985",
   "metadata": {},
   "source": [
    "### RANGE Function"
   ]
  },
  {
   "cell_type": "code",
   "execution_count": 6,
   "id": "8fa8e2c1",
   "metadata": {},
   "outputs": [
    {
     "data": {
      "text/plain": [
       "range(0, 5, 2)"
      ]
     },
     "execution_count": 6,
     "metadata": {},
     "output_type": "execute_result"
    }
   ],
   "source": [
    "range(0,5,2) # Return "
   ]
  },
  {
   "cell_type": "markdown",
   "id": "6bd84c70",
   "metadata": {},
   "source": [
    "#### Difference b/w While and For"
   ]
  },
  {
   "cell_type": "code",
   "execution_count": 7,
   "id": "f7ff7e8c",
   "metadata": {},
   "outputs": [
    {
     "name": "stdout",
     "output_type": "stream",
     "text": [
      "0\n",
      "1\n",
      "2\n",
      "3\n",
      "4\n"
     ]
    }
   ],
   "source": [
    "i = 0 # Try commenting this\n",
    "while i in range(0,5):\n",
    "    print(i)\n",
    "    i+=1 # Try commenting this"
   ]
  },
  {
   "cell_type": "code",
   "execution_count": 8,
   "id": "95bcd462",
   "metadata": {},
   "outputs": [
    {
     "name": "stdout",
     "output_type": "stream",
     "text": [
      "0\n",
      "1\n",
      "2\n",
      "3\n",
      "4\n"
     ]
    }
   ],
   "source": [
    "for i in range(0,5):\n",
    "    print(i)"
   ]
  },
  {
   "cell_type": "code",
   "execution_count": 9,
   "id": "16b72bbb",
   "metadata": {},
   "outputs": [
    {
     "name": "stdout",
     "output_type": "stream",
     "text": [
      "H\n",
      "e\n",
      "l\n",
      "l\n",
      "o\n",
      " \n",
      "W\n",
      "o\n",
      "r\n",
      "l\n",
      "d\n"
     ]
    }
   ],
   "source": [
    "for i in \"Hello World\":\n",
    "    print(i)"
   ]
  },
  {
   "cell_type": "markdown",
   "id": "edb63a29",
   "metadata": {},
   "source": [
    "### PASS, CONTINUE and BREAK"
   ]
  },
  {
   "cell_type": "code",
   "execution_count": 10,
   "id": "c94f4bbf",
   "metadata": {},
   "outputs": [],
   "source": [
    "i = 0\n",
    "while i < 5:\n",
    "    i+=1\n",
    "    pass"
   ]
  },
  {
   "cell_type": "code",
   "execution_count": 11,
   "id": "2f5a610a",
   "metadata": {},
   "outputs": [
    {
     "name": "stdout",
     "output_type": "stream",
     "text": [
      "Before continue\n",
      "Before continue\n",
      "Before continue\n",
      "Before continue\n",
      "Before continue\n"
     ]
    }
   ],
   "source": [
    "i = 0\n",
    "while i < 5:\n",
    "    i+=1\n",
    "    print(\"Before continue\")\n",
    "    continue\n",
    "    #print(\"continue\")\n",
    "    #i+=1"
   ]
  },
  {
   "cell_type": "code",
   "execution_count": 12,
   "id": "44d318bb",
   "metadata": {},
   "outputs": [
    {
     "name": "stdout",
     "output_type": "stream",
     "text": [
      "10\n",
      "14\n",
      "0\n",
      "10\n",
      "14\n",
      "1\n",
      "10\n",
      "14\n",
      "2\n",
      "10\n",
      "14\n",
      "3\n",
      "10\n",
      "14\n",
      "4\n"
     ]
    }
   ],
   "source": [
    "i = 0\n",
    "while i < 5 :\n",
    "    for j in range(10,20,4):\n",
    "        print(j)\n",
    "        if(j==14):\n",
    "            break\n",
    "    print(i)\n",
    "    i+=1"
   ]
  },
  {
   "cell_type": "markdown",
   "id": "ca2d9662",
   "metadata": {},
   "source": [
    "### ELSE in LOOPS"
   ]
  },
  {
   "cell_type": "code",
   "execution_count": 13,
   "id": "9ab4a1cc",
   "metadata": {},
   "outputs": [
    {
     "name": "stdout",
     "output_type": "stream",
     "text": [
      "0  is still less than 5\n",
      "1  is still less than 5\n",
      "2  is still less than 5\n",
      "3  is still less than 5\n",
      "4  is still less than 5\n",
      "5  is still less than 5\n",
      "6  is greater than 5\n"
     ]
    }
   ],
   "source": [
    "i = 0\n",
    "while i <= 5:\n",
    "    print (i,\" is still less than 5\")\n",
    "    i+=1\n",
    "else:\n",
    "    print(i,\" is greater than 5\")"
   ]
  },
  {
   "cell_type": "code",
   "execution_count": null,
   "id": "2001444b",
   "metadata": {},
   "outputs": [],
   "source": []
  },
  {
   "cell_type": "code",
   "execution_count": null,
   "id": "738ff955",
   "metadata": {},
   "outputs": [],
   "source": []
  },
  {
   "cell_type": "code",
   "execution_count": null,
   "id": "b31a7437",
   "metadata": {},
   "outputs": [],
   "source": []
  },
  {
   "cell_type": "code",
   "execution_count": null,
   "id": "da64c638",
   "metadata": {},
   "outputs": [],
   "source": []
  },
  {
   "cell_type": "code",
   "execution_count": null,
   "id": "8660f253",
   "metadata": {},
   "outputs": [],
   "source": []
  }
 ],
 "metadata": {
  "kernelspec": {
   "display_name": "Python 3 (ipykernel)",
   "language": "python",
   "name": "python3"
  },
  "language_info": {
   "codemirror_mode": {
    "name": "ipython",
    "version": 3
   },
   "file_extension": ".py",
   "mimetype": "text/x-python",
   "name": "python",
   "nbconvert_exporter": "python",
   "pygments_lexer": "ipython3",
   "version": "3.8.8"
  }
 },
 "nbformat": 4,
 "nbformat_minor": 5
}

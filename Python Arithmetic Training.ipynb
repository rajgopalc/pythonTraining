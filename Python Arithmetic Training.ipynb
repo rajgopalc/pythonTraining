{
 "cells": [
  {
   "cell_type": "code",
   "execution_count": 30,
   "id": "0cb82c75",
   "metadata": {},
   "outputs": [
    {
     "data": {
      "text/plain": [
       "int"
      ]
     },
     "execution_count": 30,
     "metadata": {},
     "output_type": "execute_result"
    }
   ],
   "source": [
    "#Arithmetic Operators in Python\n",
    "\n",
    "##Majorly we use two types of numbers - the ones with decimal points and ones without,but Python supports even more\n",
    "\n",
    "#For example  - here is an normal integer (one without decimals)\n",
    "\n",
    "int_val = 10\n",
    "type(int_val)"
   ]
  },
  {
   "cell_type": "code",
   "execution_count": 31,
   "id": "49fa13aa",
   "metadata": {},
   "outputs": [
    {
     "data": {
      "text/plain": [
       "float"
      ]
     },
     "execution_count": 31,
     "metadata": {},
     "output_type": "execute_result"
    }
   ],
   "source": [
    "# Here is a float\n",
    "\n",
    "float_val = 10.34\n",
    "type(float_val)"
   ]
  },
  {
   "cell_type": "code",
   "execution_count": 32,
   "id": "08b1c69a",
   "metadata": {},
   "outputs": [
    {
     "name": "stdout",
     "output_type": "stream",
     "text": [
      "0xa\n",
      "10\n"
     ]
    }
   ],
   "source": [
    "# Here is a hex Val\n",
    "\n",
    "hex_val = 0xa\n",
    "print(hex(10))\n",
    "type(hex_val)\n",
    "oct_val = 0o12\n",
    "print(oct_val)"
   ]
  },
  {
   "cell_type": "code",
   "execution_count": 33,
   "id": "c69c5bf4",
   "metadata": {},
   "outputs": [
    {
     "name": "stdout",
     "output_type": "stream",
     "text": [
      "0o12\n"
     ]
    }
   ],
   "source": [
    "# Here is an oct Val\n",
    "int_val=10\n",
    "oct_val = oct(int_val)\n",
    "print(oct_val)"
   ]
  },
  {
   "cell_type": "code",
   "execution_count": 34,
   "id": "d138f128",
   "metadata": {},
   "outputs": [
    {
     "name": "stdout",
     "output_type": "stream",
     "text": [
      "0b1010\n"
     ]
    }
   ],
   "source": [
    "binaryVal = bin(int_val)\n",
    "print(binaryVal)"
   ]
  },
  {
   "cell_type": "code",
   "execution_count": 35,
   "id": "d5f27f48",
   "metadata": {},
   "outputs": [
    {
     "data": {
      "text/plain": [
       "str"
      ]
     },
     "execution_count": 35,
     "metadata": {},
     "output_type": "execute_result"
    }
   ],
   "source": [
    "type(oct(10)) #Gotcha.. the oct_val is a string"
   ]
  },
  {
   "cell_type": "code",
   "execution_count": 36,
   "id": "7d511f8f",
   "metadata": {},
   "outputs": [],
   "source": [
    "int('0b1000',base=2) \n",
    "#base can be 2, 8 , 10 , 16 depending on the type of value you are deciphering, \n",
    "#which should be a String, byte or bytearray\n",
    "#float(oct_val,base=8)\n",
    "int_val = 10"
   ]
  },
  {
   "cell_type": "code",
   "execution_count": 37,
   "id": "6e0b5eaa",
   "metadata": {},
   "outputs": [
    {
     "data": {
      "text/plain": [
       "11"
      ]
     },
     "execution_count": 37,
     "metadata": {},
     "output_type": "execute_result"
    }
   ],
   "source": [
    "#Addition\n",
    "int_val+1"
   ]
  },
  {
   "cell_type": "code",
   "execution_count": 38,
   "id": "f898b9b0",
   "metadata": {},
   "outputs": [
    {
     "data": {
      "text/plain": [
       "5"
      ]
     },
     "execution_count": 38,
     "metadata": {},
     "output_type": "execute_result"
    }
   ],
   "source": [
    "#Subtraction\n",
    "int_val-5"
   ]
  },
  {
   "cell_type": "code",
   "execution_count": 39,
   "id": "5c38f4dc",
   "metadata": {},
   "outputs": [
    {
     "data": {
      "text/plain": [
       "20"
      ]
     },
     "execution_count": 39,
     "metadata": {},
     "output_type": "execute_result"
    }
   ],
   "source": [
    "#Multiplication\n",
    "int_val * 2"
   ]
  },
  {
   "cell_type": "code",
   "execution_count": 40,
   "id": "4a47219a",
   "metadata": {},
   "outputs": [
    {
     "data": {
      "text/plain": [
       "2.0"
      ]
     },
     "execution_count": 40,
     "metadata": {},
     "output_type": "execute_result"
    }
   ],
   "source": [
    "#Division\n",
    "4/2   #Returns a float!!"
   ]
  },
  {
   "cell_type": "code",
   "execution_count": 41,
   "id": "3c14e518",
   "metadata": {},
   "outputs": [
    {
     "data": {
      "text/plain": [
       "1"
      ]
     },
     "execution_count": 41,
     "metadata": {},
     "output_type": "execute_result"
    }
   ],
   "source": [
    "#Division to return int\n",
    "5//3"
   ]
  },
  {
   "cell_type": "code",
   "execution_count": 42,
   "id": "c4701635",
   "metadata": {},
   "outputs": [
    {
     "data": {
      "text/plain": [
       "100"
      ]
     },
     "execution_count": 42,
     "metadata": {},
     "output_type": "execute_result"
    }
   ],
   "source": [
    "#Exponentiation\n",
    "10**2"
   ]
  },
  {
   "cell_type": "code",
   "execution_count": null,
   "id": "6c523ec3",
   "metadata": {},
   "outputs": [],
   "source": []
  },
  {
   "cell_type": "code",
   "execution_count": 43,
   "id": "2de3e6ea",
   "metadata": {},
   "outputs": [
    {
     "name": "stdout",
     "output_type": "stream",
     "text": [
      "12\n",
      "13\n",
      "11\n"
     ]
    }
   ],
   "source": [
    "#There is no ++ or -- in Python instead we use\n",
    "int_val = 12\n",
    "print(int_val)\n",
    "int_val+=1 #  int_val = int_val + 1\n",
    "print(int_val)\n",
    "int_val-=2\n",
    "print(int_val)"
   ]
  },
  {
   "cell_type": "code",
   "execution_count": 44,
   "id": "f7e67668",
   "metadata": {},
   "outputs": [
    {
     "name": "stdout",
     "output_type": "stream",
     "text": [
      "16\n"
     ]
    }
   ],
   "source": [
    "#PEMDAS Precendence order of Exponentiation, Multiplication, Division, Addition and Subtraction\n",
    "x = 10 + 3 * 2\n",
    "print(x)"
   ]
  },
  {
   "cell_type": "code",
   "execution_count": 45,
   "id": "47276eae",
   "metadata": {},
   "outputs": [],
   "source": [
    "x = 1565 - 5**5 / 2"
   ]
  },
  {
   "cell_type": "code",
   "execution_count": 46,
   "id": "7945613c",
   "metadata": {},
   "outputs": [
    {
     "data": {
      "text/plain": [
       "2.5"
      ]
     },
     "execution_count": 46,
     "metadata": {},
     "output_type": "execute_result"
    }
   ],
   "source": [
    "x"
   ]
  },
  {
   "cell_type": "code",
   "execution_count": 47,
   "id": "6ed71f10",
   "metadata": {},
   "outputs": [],
   "source": [
    "x = (1565-5)**5 / 2"
   ]
  },
  {
   "cell_type": "code",
   "execution_count": 48,
   "id": "86ace2d9",
   "metadata": {},
   "outputs": [
    {
     "data": {
      "text/plain": [
       "4619478988800000.0"
      ]
     },
     "execution_count": 48,
     "metadata": {},
     "output_type": "execute_result"
    }
   ],
   "source": [
    "x"
   ]
  },
  {
   "cell_type": "code",
   "execution_count": 49,
   "id": "f4773378",
   "metadata": {},
   "outputs": [
    {
     "name": "stdout",
     "output_type": "stream",
     "text": [
      "4\n"
     ]
    }
   ],
   "source": [
    "print(round(3.9))"
   ]
  },
  {
   "cell_type": "code",
   "execution_count": 50,
   "id": "7fd53289",
   "metadata": {},
   "outputs": [
    {
     "name": "stdout",
     "output_type": "stream",
     "text": [
      "3\n"
     ]
    }
   ],
   "source": [
    "print(round(3.49))"
   ]
  },
  {
   "cell_type": "code",
   "execution_count": 51,
   "id": "d6e8daec",
   "metadata": {},
   "outputs": [
    {
     "name": "stdout",
     "output_type": "stream",
     "text": [
      "2\n"
     ]
    }
   ],
   "source": [
    "print(abs(-2))"
   ]
  },
  {
   "cell_type": "code",
   "execution_count": 52,
   "id": "74ac162d",
   "metadata": {},
   "outputs": [],
   "source": [
    "#For even more complex math operations we need to \n",
    "import math"
   ]
  },
  {
   "cell_type": "code",
   "execution_count": 53,
   "id": "818eaf3b",
   "metadata": {},
   "outputs": [
    {
     "data": {
      "text/plain": [
       "1"
      ]
     },
     "execution_count": 53,
     "metadata": {},
     "output_type": "execute_result"
    }
   ],
   "source": [
    "math.ceil(0.4)"
   ]
  },
  {
   "cell_type": "code",
   "execution_count": 54,
   "id": "94e51842",
   "metadata": {},
   "outputs": [
    {
     "data": {
      "text/plain": [
       "2"
      ]
     },
     "execution_count": 54,
     "metadata": {},
     "output_type": "execute_result"
    }
   ],
   "source": [
    "math.floor(2.9)"
   ]
  },
  {
   "cell_type": "code",
   "execution_count": 55,
   "id": "b488ec9c",
   "metadata": {},
   "outputs": [
    {
     "data": {
      "text/plain": [
       "8.0"
      ]
     },
     "execution_count": 55,
     "metadata": {},
     "output_type": "execute_result"
    }
   ],
   "source": [
    "math.pow(2,3)"
   ]
  },
  {
   "cell_type": "code",
   "execution_count": 56,
   "id": "5d2082a4",
   "metadata": {},
   "outputs": [
    {
     "data": {
      "text/plain": [
       "27.0"
      ]
     },
     "execution_count": 56,
     "metadata": {},
     "output_type": "execute_result"
    }
   ],
   "source": [
    "math.pow(3,3)"
   ]
  },
  {
   "cell_type": "code",
   "execution_count": 57,
   "id": "f1e4f880",
   "metadata": {},
   "outputs": [
    {
     "data": {
      "text/plain": [
       "6"
      ]
     },
     "execution_count": 57,
     "metadata": {},
     "output_type": "execute_result"
    }
   ],
   "source": [
    "math.factorial(3)"
   ]
  },
  {
   "cell_type": "code",
   "execution_count": 58,
   "id": "2f5522d7",
   "metadata": {},
   "outputs": [
    {
     "data": {
      "text/plain": [
       "10.0"
      ]
     },
     "execution_count": 58,
     "metadata": {},
     "output_type": "execute_result"
    }
   ],
   "source": [
    "float(10)"
   ]
  },
  {
   "cell_type": "code",
   "execution_count": 59,
   "id": "34d5610b",
   "metadata": {},
   "outputs": [],
   "source": [
    "# Read thru - https://docs.python.org/3/library/math.html"
   ]
  },
  {
   "cell_type": "code",
   "execution_count": 60,
   "id": "efda337d",
   "metadata": {},
   "outputs": [],
   "source": [
    "# Get an input of a number. Convert it to an int and then find its square root."
   ]
  },
  {
   "cell_type": "code",
   "execution_count": 61,
   "id": "3b6ff7c9",
   "metadata": {},
   "outputs": [
    {
     "name": "stdout",
     "output_type": "stream",
     "text": [
      "Enter number :: 100\n",
      "10\n"
     ]
    }
   ],
   "source": [
    "import math\n",
    "numVal = input(\"Enter number :: \")\n",
    "numVal = float(numVal)\n",
    "print(math.ceil(math.sqrt(numVal)))"
   ]
  },
  {
   "cell_type": "code",
   "execution_count": 62,
   "id": "00904c02",
   "metadata": {},
   "outputs": [
    {
     "name": "stdout",
     "output_type": "stream",
     "text": [
      "Enter your age23\n"
     ]
    }
   ],
   "source": [
    "age = input(\"Enter your age\")"
   ]
  },
  {
   "cell_type": "code",
   "execution_count": 63,
   "id": "10c0ef1c",
   "metadata": {},
   "outputs": [
    {
     "data": {
      "text/plain": [
       "str"
      ]
     },
     "execution_count": 63,
     "metadata": {},
     "output_type": "execute_result"
    }
   ],
   "source": [
    "type(age)"
   ]
  },
  {
   "cell_type": "code",
   "execution_count": 64,
   "id": "31202722",
   "metadata": {},
   "outputs": [],
   "source": [
    "age = int(age)"
   ]
  },
  {
   "cell_type": "code",
   "execution_count": 65,
   "id": "a4dea402",
   "metadata": {},
   "outputs": [
    {
     "name": "stdout",
     "output_type": "stream",
     "text": [
      "Enter some number  :: 25\n"
     ]
    },
    {
     "data": {
      "text/plain": [
       "5.0"
      ]
     },
     "execution_count": 65,
     "metadata": {},
     "output_type": "execute_result"
    }
   ],
   "source": [
    "import math\n",
    "math.sqrt(int(input(\"Enter some number  :: \")))"
   ]
  },
  {
   "cell_type": "code",
   "execution_count": null,
   "id": "f1a9eb1c",
   "metadata": {},
   "outputs": [],
   "source": []
  }
 ],
 "metadata": {
  "kernelspec": {
   "display_name": "Python 3 (ipykernel)",
   "language": "python",
   "name": "python3"
  },
  "language_info": {
   "codemirror_mode": {
    "name": "ipython",
    "version": 3
   },
   "file_extension": ".py",
   "mimetype": "text/x-python",
   "name": "python",
   "nbconvert_exporter": "python",
   "pygments_lexer": "ipython3",
   "version": "3.8.8"
  }
 },
 "nbformat": 4,
 "nbformat_minor": 5
}

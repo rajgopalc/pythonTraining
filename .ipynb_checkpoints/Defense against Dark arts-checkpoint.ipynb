{
 "cells": [
  {
   "cell_type": "markdown",
   "id": "79e0f3ba",
   "metadata": {
    "slideshow": {
     "slide_type": "slide"
    }
   },
   "source": [
    "#### Different errors and exceptions can occur when you run a Python program"
   ]
  },
  {
   "cell_type": "markdown",
   "id": "6385b1b1",
   "metadata": {
    "slideshow": {
     "slide_type": "fragment"
    }
   },
   "source": [
    "##### A common error -- Syntax Error"
   ]
  },
  {
   "cell_type": "code",
   "execution_count": 1,
   "id": "e8ba0808",
   "metadata": {
    "slideshow": {
     "slide_type": "fragment"
    }
   },
   "outputs": [
    {
     "ename": "SyntaxError",
     "evalue": "Missing parentheses in call to 'print'. Did you mean print(Hello)? (3340075208.py, line 1)",
     "output_type": "error",
     "traceback": [
      "\u001b[0;36m  File \u001b[0;32m\"/tmp/ipykernel_1360101/3340075208.py\"\u001b[0;36m, line \u001b[0;32m1\u001b[0m\n\u001b[0;31m    print Hello\u001b[0m\n\u001b[0m          ^\u001b[0m\n\u001b[0;31mSyntaxError\u001b[0m\u001b[0;31m:\u001b[0m Missing parentheses in call to 'print'. Did you mean print(Hello)?\n"
     ]
    }
   ],
   "source": [
    "print Hello"
   ]
  },
  {
   "cell_type": "markdown",
   "id": "224361fd",
   "metadata": {
    "slideshow": {
     "slide_type": "slide"
    }
   },
   "source": [
    "##### Errors detected during the execution of the program are called 'Exceptions' \n",
    "##### Examples - TypeError, NameError, ZeroDivisionError"
   ]
  },
  {
   "cell_type": "code",
   "execution_count": 2,
   "id": "16106e92",
   "metadata": {
    "slideshow": {
     "slide_type": "fragment"
    }
   },
   "outputs": [
    {
     "ename": "TypeError",
     "evalue": "unsupported operand type(s) for +: 'int' and 'type'",
     "output_type": "error",
     "traceback": [
      "\u001b[0;31m---------------------------------------------------------------------------\u001b[0m",
      "\u001b[0;31mTypeError\u001b[0m                                 Traceback (most recent call last)",
      "\u001b[0;32m/tmp/ipykernel_1360101/2920978438.py\u001b[0m in \u001b[0;36m<module>\u001b[0;34m\u001b[0m\n\u001b[0;32m----> 1\u001b[0;31m \u001b[0mprint\u001b[0m\u001b[0;34m(\u001b[0m\u001b[0;36m12\u001b[0m\u001b[0;34m+\u001b[0m\u001b[0mstr\u001b[0m\u001b[0;34m)\u001b[0m\u001b[0;34m\u001b[0m\u001b[0;34m\u001b[0m\u001b[0m\n\u001b[0m",
      "\u001b[0;31mTypeError\u001b[0m: unsupported operand type(s) for +: 'int' and 'type'"
     ]
    }
   ],
   "source": [
    "print(12+str)"
   ]
  },
  {
   "cell_type": "code",
   "execution_count": 3,
   "id": "4c0f5c0e",
   "metadata": {
    "slideshow": {
     "slide_type": "fragment"
    }
   },
   "outputs": [],
   "source": [
    "def square(num):\n",
    "    return num * num"
   ]
  },
  {
   "cell_type": "code",
   "execution_count": 4,
   "id": "3bffa4dc",
   "metadata": {
    "slideshow": {
     "slide_type": "fragment"
    }
   },
   "outputs": [
    {
     "data": {
      "text/plain": [
       "98.01"
      ]
     },
     "execution_count": 4,
     "metadata": {},
     "output_type": "execute_result"
    }
   ],
   "source": [
    "square(9.9)"
   ]
  },
  {
   "cell_type": "code",
   "execution_count": 5,
   "id": "78df7fe0",
   "metadata": {
    "scrolled": true,
    "slideshow": {
     "slide_type": "fragment"
    }
   },
   "outputs": [
    {
     "ename": "TypeError",
     "evalue": "can't multiply sequence by non-int of type 'str'",
     "output_type": "error",
     "traceback": [
      "\u001b[0;31m---------------------------------------------------------------------------\u001b[0m",
      "\u001b[0;31mTypeError\u001b[0m                                 Traceback (most recent call last)",
      "\u001b[0;32m/tmp/ipykernel_1360101/4165626435.py\u001b[0m in \u001b[0;36m<module>\u001b[0;34m\u001b[0m\n\u001b[0;32m----> 1\u001b[0;31m \u001b[0msquare\u001b[0m\u001b[0;34m(\u001b[0m\u001b[0;34m'hi'\u001b[0m\u001b[0;34m)\u001b[0m\u001b[0;34m\u001b[0m\u001b[0;34m\u001b[0m\u001b[0m\n\u001b[0m",
      "\u001b[0;32m/tmp/ipykernel_1360101/1950080142.py\u001b[0m in \u001b[0;36msquare\u001b[0;34m(num)\u001b[0m\n\u001b[1;32m      1\u001b[0m \u001b[0;32mdef\u001b[0m \u001b[0msquare\u001b[0m\u001b[0;34m(\u001b[0m\u001b[0mnum\u001b[0m\u001b[0;34m)\u001b[0m\u001b[0;34m:\u001b[0m\u001b[0;34m\u001b[0m\u001b[0;34m\u001b[0m\u001b[0m\n\u001b[0;32m----> 2\u001b[0;31m     \u001b[0;32mreturn\u001b[0m \u001b[0mnum\u001b[0m \u001b[0;34m*\u001b[0m \u001b[0mnum\u001b[0m\u001b[0;34m\u001b[0m\u001b[0;34m\u001b[0m\u001b[0m\n\u001b[0m",
      "\u001b[0;31mTypeError\u001b[0m: can't multiply sequence by non-int of type 'str'"
     ]
    }
   ],
   "source": [
    "square('hi')"
   ]
  },
  {
   "cell_type": "markdown",
   "id": "e3246f13",
   "metadata": {
    "slideshow": {
     "slide_type": "slide"
    }
   },
   "source": [
    "#### EXCEPTION HANDLING"
   ]
  },
  {
   "cell_type": "code",
   "execution_count": 6,
   "id": "4a094ed2",
   "metadata": {
    "slideshow": {
     "slide_type": "fragment"
    }
   },
   "outputs": [],
   "source": [
    "def square(num):\n",
    "    try:\n",
    "        return num*num\n",
    "    except TypeError:\n",
    "        print(\"Hey,send me numbers only!!\")"
   ]
  },
  {
   "cell_type": "code",
   "execution_count": 7,
   "id": "32393a84",
   "metadata": {
    "slideshow": {
     "slide_type": "fragment"
    }
   },
   "outputs": [
    {
     "name": "stdout",
     "output_type": "stream",
     "text": [
      "Hey,send me numbers only!!\n",
      "None\n"
     ]
    }
   ],
   "source": [
    "val = square('hi')\n",
    "print(val)"
   ]
  },
  {
   "cell_type": "code",
   "execution_count": 8,
   "id": "8d045a6a",
   "metadata": {
    "slideshow": {
     "slide_type": "slide"
    }
   },
   "outputs": [],
   "source": [
    "def square(num):\n",
    "    try:\n",
    "        raise NameError(\"Dummy Error\")\n",
    "        return num*num\n",
    "    except TypeError:\n",
    "        print(\"Hey,send me numbers only!!\")"
   ]
  },
  {
   "cell_type": "code",
   "execution_count": 9,
   "id": "371e2d25",
   "metadata": {
    "slideshow": {
     "slide_type": "fragment"
    }
   },
   "outputs": [
    {
     "name": "stdout",
     "output_type": "stream",
     "text": [
      "NameError ('Dummy Error',)\n",
      "I am the exception handler outside the method\n"
     ]
    }
   ],
   "source": [
    "#Main program\n",
    "try: \n",
    "    val = square(4)#raise an unhandled exception in square fn.\n",
    "    print(val)\n",
    "except Exception as e:\n",
    "    print(type(e).__name__,e.args)\n",
    "    print(\"I am the exception handler outside the method\")"
   ]
  },
  {
   "cell_type": "code",
   "execution_count": 10,
   "id": "0f4f4fd1",
   "metadata": {
    "slideshow": {
     "slide_type": "slide"
    }
   },
   "outputs": [],
   "source": [
    "def square(num):\n",
    "    try:\n",
    "        raise NameError(\"Dummy Error\")\n",
    "        return num*num\n",
    "    except (TypeError,NameError):\n",
    "        print(\"Big Problem!\")\n",
    "        return (\"ERR\",hex(999))"
   ]
  },
  {
   "cell_type": "code",
   "execution_count": 11,
   "id": "619a9bcd",
   "metadata": {
    "slideshow": {
     "slide_type": "fragment"
    }
   },
   "outputs": [
    {
     "name": "stdout",
     "output_type": "stream",
     "text": [
      "Big Problem!\n",
      "val is :  ('ERR', '0x3e7')\n"
     ]
    }
   ],
   "source": [
    "#Main program\n",
    "try: \n",
    "    val = square(4)#raise an unhandled exception in square fn.\n",
    "    print(\"val is : \",val)\n",
    "except Exception as e:\n",
    "    print(type(e).__name__,e.args)\n",
    "    print(\"I am the exception handler outside the method\")"
   ]
  },
  {
   "cell_type": "markdown",
   "id": "3229822f",
   "metadata": {
    "slideshow": {
     "slide_type": "slide"
    }
   },
   "source": [
    "### The try statement works as follows.\n",
    "\n",
    "##### First, the try clause (the statement(s) between the try and except keywords) is executed.\n",
    "\n",
    "##### If no exception occurs, the except clause is skipped and execution of the try statement is finished.\n",
    "\n",
    "##### If an exception occurs during execution of the try clause, the rest of the clause is skipped. Then if its type matches the exception named after the except keyword, the except clause is executed, and then execution continues after the try statement.\n",
    "\n",
    "##### If an exception occurs which does not match the exception named in the except clause, it is passed on to outer try statements; if no handler is found, it is an unhandled exception and execution stops with a message as shown above.\n"
   ]
  },
  {
   "cell_type": "code",
   "execution_count": 12,
   "id": "83c31478",
   "metadata": {
    "slideshow": {
     "slide_type": "slide"
    }
   },
   "outputs": [],
   "source": [
    "def square(num):\n",
    "    try:\n",
    "        raise NameError(\"Dummy Error\")\n",
    "        return num*num\n",
    "    except (TypeError,NameError):\n",
    "        print(\"Big Problem!\")\n",
    "        return (\"ERR\",hex(999))"
   ]
  },
  {
   "cell_type": "code",
   "execution_count": 13,
   "id": "69cf2597",
   "metadata": {
    "slideshow": {
     "slide_type": "fragment"
    }
   },
   "outputs": [
    {
     "name": "stdout",
     "output_type": "stream",
     "text": [
      "Big Problem!\n",
      "\n",
      "I am the Generic Exception handler handling, NameError (\"name 'valf' is not defined\",)\n",
      "\n",
      "I am the cleanup code block which is always executed\n"
     ]
    }
   ],
   "source": [
    "#Main program\n",
    "try: \n",
    "    val = square(4)#raise an unhandled exception in square fn.\n",
    "    print(\"val is : \",valf) #Trying to to print wrong variable name\n",
    "except Exception as e:\n",
    "    print()\n",
    "    print(\"I am the Generic Exception handler handling,\",type(e).__name__,e.args)\n",
    "finally:\n",
    "    print()\n",
    "    print(\"I am the cleanup code block which is always executed\")"
   ]
  },
  {
   "cell_type": "markdown",
   "id": "e34df66f",
   "metadata": {
    "slideshow": {
     "slide_type": "slide"
    }
   },
   "source": [
    "#### LOGGING"
   ]
  },
  {
   "cell_type": "code",
   "execution_count": 14,
   "id": "1c2fa145",
   "metadata": {
    "slideshow": {
     "slide_type": "fragment"
    }
   },
   "outputs": [],
   "source": [
    "def square(num):\n",
    "    try:\n",
    "        raise NameError(\"Dummy Error\")\n",
    "        return num*num\n",
    "    except TypeError:\n",
    "        print(\"Hey,send me numbers only!!\")"
   ]
  },
  {
   "cell_type": "code",
   "execution_count": 15,
   "id": "d3b70679",
   "metadata": {
    "slideshow": {
     "slide_type": "fragment"
    }
   },
   "outputs": [
    {
     "name": "stderr",
     "output_type": "stream",
     "text": [
      "Something strange happened\n",
      "Traceback (most recent call last):\n",
      "  File \"/tmp/ipykernel_1360101/3758792084.py\", line 4, in <module>\n",
      "    square(10)\n",
      "  File \"/tmp/ipykernel_1360101/997724834.py\", line 3, in square\n",
      "    raise NameError(\"Dummy Error\")\n",
      "NameError: Dummy Error\n"
     ]
    }
   ],
   "source": [
    "import logging\n",
    "log = logging.getLogger()\n",
    "try:\n",
    "    square(10)\n",
    "except:\n",
    "    log.exception(\"Something strange happened\")"
   ]
  },
  {
   "cell_type": "markdown",
   "id": "3814e026",
   "metadata": {
    "slideshow": {
     "slide_type": "slide"
    }
   },
   "source": [
    "#### Debugger"
   ]
  },
  {
   "cell_type": "code",
   "execution_count": 16,
   "id": "9b93059f",
   "metadata": {
    "slideshow": {
     "slide_type": "subslide"
    }
   },
   "outputs": [
    {
     "name": "stderr",
     "output_type": "stream",
     "text": [
      "Something strange happened\n",
      "Traceback (most recent call last):\n",
      "  File \"/tmp/ipykernel_1360101/3206861891.py\", line 5, in <module>\n",
      "    square(10)\n",
      "  File \"/tmp/ipykernel_1360101/997724834.py\", line 3, in square\n",
      "    raise NameError(\"Dummy Error\")\n",
      "NameError: Dummy Error\n"
     ]
    },
    {
     "name": "stdout",
     "output_type": "stream",
     "text": [
      "> \u001b[0;32m/tmp/ipykernel_1360101/997724834.py\u001b[0m(3)\u001b[0;36msquare\u001b[0;34m()\u001b[0m\n",
      "\u001b[0;32m      1 \u001b[0;31m\u001b[0;32mdef\u001b[0m \u001b[0msquare\u001b[0m\u001b[0;34m(\u001b[0m\u001b[0mnum\u001b[0m\u001b[0;34m)\u001b[0m\u001b[0;34m:\u001b[0m\u001b[0;34m\u001b[0m\u001b[0;34m\u001b[0m\u001b[0m\n",
      "\u001b[0m\u001b[0;32m      2 \u001b[0;31m    \u001b[0;32mtry\u001b[0m\u001b[0;34m:\u001b[0m\u001b[0;34m\u001b[0m\u001b[0;34m\u001b[0m\u001b[0m\n",
      "\u001b[0m\u001b[0;32m----> 3 \u001b[0;31m        \u001b[0;32mraise\u001b[0m \u001b[0mNameError\u001b[0m\u001b[0;34m(\u001b[0m\u001b[0;34m\"Dummy Error\"\u001b[0m\u001b[0;34m)\u001b[0m\u001b[0;34m\u001b[0m\u001b[0;34m\u001b[0m\u001b[0m\n",
      "\u001b[0m\u001b[0;32m      4 \u001b[0;31m        \u001b[0;32mreturn\u001b[0m \u001b[0mnum\u001b[0m\u001b[0;34m*\u001b[0m\u001b[0mnum\u001b[0m\u001b[0;34m\u001b[0m\u001b[0;34m\u001b[0m\u001b[0m\n",
      "\u001b[0m\u001b[0;32m      5 \u001b[0;31m    \u001b[0;32mexcept\u001b[0m \u001b[0mTypeError\u001b[0m\u001b[0;34m:\u001b[0m\u001b[0;34m\u001b[0m\u001b[0;34m\u001b[0m\u001b[0m\n",
      "\u001b[0m\n",
      "ipdb> u\n",
      "> \u001b[0;32m/tmp/ipykernel_1360101/3206861891.py\u001b[0m(5)\u001b[0;36m<module>\u001b[0;34m()\u001b[0m\n",
      "\u001b[0;32m      3 \u001b[0;31m\u001b[0mlog\u001b[0m \u001b[0;34m=\u001b[0m \u001b[0mlogging\u001b[0m\u001b[0;34m.\u001b[0m\u001b[0mgetLogger\u001b[0m\u001b[0;34m(\u001b[0m\u001b[0;34m)\u001b[0m\u001b[0;34m\u001b[0m\u001b[0;34m\u001b[0m\u001b[0m\n",
      "\u001b[0m\u001b[0;32m      4 \u001b[0;31m\u001b[0;32mtry\u001b[0m\u001b[0;34m:\u001b[0m\u001b[0;34m\u001b[0m\u001b[0;34m\u001b[0m\u001b[0m\n",
      "\u001b[0m\u001b[0;32m----> 5 \u001b[0;31m    \u001b[0msquare\u001b[0m\u001b[0;34m(\u001b[0m\u001b[0;36m10\u001b[0m\u001b[0;34m)\u001b[0m\u001b[0;34m\u001b[0m\u001b[0;34m\u001b[0m\u001b[0m\n",
      "\u001b[0m\u001b[0;32m      6 \u001b[0;31m\u001b[0;32mexcept\u001b[0m\u001b[0;34m:\u001b[0m\u001b[0;34m\u001b[0m\u001b[0;34m\u001b[0m\u001b[0m\n",
      "\u001b[0m\u001b[0;32m      7 \u001b[0;31m    \u001b[0mlog\u001b[0m\u001b[0;34m.\u001b[0m\u001b[0mexception\u001b[0m\u001b[0;34m(\u001b[0m\u001b[0;34m\"Something strange happened\"\u001b[0m\u001b[0;34m)\u001b[0m\u001b[0;34m\u001b[0m\u001b[0;34m\u001b[0m\u001b[0m\n",
      "\u001b[0m\n",
      "ipdb> d\n",
      "> \u001b[0;32m/tmp/ipykernel_1360101/997724834.py\u001b[0m(3)\u001b[0;36msquare\u001b[0;34m()\u001b[0m\n",
      "\u001b[0;32m      1 \u001b[0;31m\u001b[0;32mdef\u001b[0m \u001b[0msquare\u001b[0m\u001b[0;34m(\u001b[0m\u001b[0mnum\u001b[0m\u001b[0;34m)\u001b[0m\u001b[0;34m:\u001b[0m\u001b[0;34m\u001b[0m\u001b[0;34m\u001b[0m\u001b[0m\n",
      "\u001b[0m\u001b[0;32m      2 \u001b[0;31m    \u001b[0;32mtry\u001b[0m\u001b[0;34m:\u001b[0m\u001b[0;34m\u001b[0m\u001b[0;34m\u001b[0m\u001b[0m\n",
      "\u001b[0m\u001b[0;32m----> 3 \u001b[0;31m        \u001b[0;32mraise\u001b[0m \u001b[0mNameError\u001b[0m\u001b[0;34m(\u001b[0m\u001b[0;34m\"Dummy Error\"\u001b[0m\u001b[0;34m)\u001b[0m\u001b[0;34m\u001b[0m\u001b[0;34m\u001b[0m\u001b[0m\n",
      "\u001b[0m\u001b[0;32m      4 \u001b[0;31m        \u001b[0;32mreturn\u001b[0m \u001b[0mnum\u001b[0m\u001b[0;34m*\u001b[0m\u001b[0mnum\u001b[0m\u001b[0;34m\u001b[0m\u001b[0;34m\u001b[0m\u001b[0m\n",
      "\u001b[0m\u001b[0;32m      5 \u001b[0;31m    \u001b[0;32mexcept\u001b[0m \u001b[0mTypeError\u001b[0m\u001b[0;34m:\u001b[0m\u001b[0;34m\u001b[0m\u001b[0;34m\u001b[0m\u001b[0m\n",
      "\u001b[0m\n",
      "ipdb> q\n"
     ]
    }
   ],
   "source": [
    "import logging\n",
    "import pdb  # For debugging\n",
    "log = logging.getLogger()\n",
    "try:\n",
    "    square(10)\n",
    "except:\n",
    "    log.exception(\"Something strange happened\")\n",
    "    pdb.post_mortem() # For debugging only"
   ]
  },
  {
   "cell_type": "markdown",
   "id": "2cfc97e8",
   "metadata": {
    "slideshow": {
     "slide_type": "subslide"
    }
   },
   "source": [
    "https://docs.python.org/3/library/pdb.html"
   ]
  },
  {
   "cell_type": "code",
   "execution_count": null,
   "id": "1a54bfdb",
   "metadata": {
    "slideshow": {
     "slide_type": "skip"
    }
   },
   "outputs": [],
   "source": []
  }
 ],
 "metadata": {
  "celltoolbar": "Slideshow",
  "kernelspec": {
   "display_name": "Python 3 (ipykernel)",
   "language": "python",
   "name": "python3"
  },
  "language_info": {
   "codemirror_mode": {
    "name": "ipython",
    "version": 3
   },
   "file_extension": ".py",
   "mimetype": "text/x-python",
   "name": "python",
   "nbconvert_exporter": "python",
   "pygments_lexer": "ipython3",
   "version": "3.8.8"
  }
 },
 "nbformat": 4,
 "nbformat_minor": 5
}

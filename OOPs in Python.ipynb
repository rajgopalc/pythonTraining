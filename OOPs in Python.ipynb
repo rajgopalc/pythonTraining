{
 "cells": [
  {
   "cell_type": "markdown",
   "id": "d39a5305",
   "metadata": {},
   "source": [
    "### Everything in Python is an Object"
   ]
  },
  {
   "cell_type": "markdown",
   "id": "19498429",
   "metadata": {},
   "source": [
    "We have seen many different data types yesterday and each of them represents an object. An object is an 'instance' of 'Class' (which is a type of entity).\n",
    "\n",
    "For example we can say 'obj' is an instance of 'cls' where 'obj' is of type 'cls'. So in essence, everything in Python is an object and has a type.\n",
    "\n",
    "So all the data types like String, List, Tuple, Integers -- everything we saw yesterday is actually an instance or object of their respective types\n",
    "\n",
    "In layman parlance, Class is a blueprint and Object is created out of that blueprint.\n",
    "\n",
    "For example, a car manufacturer has created a blueprint / framework for a car  ('car on paper') -- and the factory worker creates the 'real world' car (or the instance) using the blueprint"
   ]
  },
  {
   "cell_type": "code",
   "execution_count": 1,
   "id": "0f403715",
   "metadata": {},
   "outputs": [
    {
     "data": {
      "text/plain": [
       "True"
      ]
     },
     "execution_count": 1,
     "metadata": {},
     "output_type": "execute_result"
    }
   ],
   "source": [
    "isinstance(\"hello\",str)"
   ]
  },
  {
   "cell_type": "code",
   "execution_count": 2,
   "id": "f054e686",
   "metadata": {},
   "outputs": [
    {
     "data": {
      "text/plain": [
       "True"
      ]
     },
     "execution_count": 2,
     "metadata": {},
     "output_type": "execute_result"
    }
   ],
   "source": [
    "isinstance(str,object) #Object is a root class"
   ]
  },
  {
   "cell_type": "markdown",
   "id": "c5cb8480",
   "metadata": {},
   "source": [
    "#### DOT NOTATION\n",
    "We saw yesterday that many a times, we used the convention :\n",
    "\n",
    "<code>obj.method</code>\n",
    "\n",
    "For example\n",
    "\n",
    "<code>\"hello\".find(h)</code>"
   ]
  },
  {
   "cell_type": "code",
   "execution_count": 3,
   "id": "38633bd6",
   "metadata": {
    "scrolled": true
   },
   "outputs": [
    {
     "data": {
      "text/plain": [
       "0"
      ]
     },
     "execution_count": 3,
     "metadata": {},
     "output_type": "execute_result"
    }
   ],
   "source": [
    "\"hello\".find(\"h\")"
   ]
  },
  {
   "cell_type": "markdown",
   "id": "f7d0d0bd",
   "metadata": {},
   "source": [
    "What actually happens in the background here is that the method find within object of \"str\" with value \"hello\"  is being called.\n",
    "\n",
    "### So, An object contains :\n",
    "<ol>\n",
    "    <li> Data representation / Attribute denoting value </li>\n",
    "    <li> Procedures to interact with attribute or other objects </li>\n",
    "</ol>"
   ]
  },
  {
   "cell_type": "markdown",
   "id": "19bb3d2f",
   "metadata": {},
   "source": [
    "### Creating CLASS  - Define your own data types"
   ]
  },
  {
   "cell_type": "code",
   "execution_count": 4,
   "id": "e01bd958",
   "metadata": {},
   "outputs": [],
   "source": [
    "class Coordinate(object):  #object inheritence is implicit\n",
    "    pass"
   ]
  },
  {
   "cell_type": "code",
   "execution_count": 5,
   "id": "a594bd8e",
   "metadata": {},
   "outputs": [
    {
     "data": {
      "text/plain": [
       "type"
      ]
     },
     "execution_count": 5,
     "metadata": {},
     "output_type": "execute_result"
    }
   ],
   "source": [
    "type(Coordinate)"
   ]
  },
  {
   "cell_type": "code",
   "execution_count": 6,
   "id": "cfd03364",
   "metadata": {},
   "outputs": [],
   "source": [
    "c = Coordinate() ## c is an instance of Coordinate"
   ]
  },
  {
   "cell_type": "code",
   "execution_count": 7,
   "id": "f08a1bce",
   "metadata": {},
   "outputs": [
    {
     "data": {
      "text/plain": [
       "__main__.Coordinate"
      ]
     },
     "execution_count": 7,
     "metadata": {},
     "output_type": "execute_result"
    }
   ],
   "source": [
    "type(c)"
   ]
  },
  {
   "cell_type": "code",
   "execution_count": 8,
   "id": "3c2a7730",
   "metadata": {},
   "outputs": [
    {
     "data": {
      "text/plain": [
       "True"
      ]
     },
     "execution_count": 8,
     "metadata": {},
     "output_type": "execute_result"
    }
   ],
   "source": [
    "isinstance(c,Coordinate)"
   ]
  },
  {
   "cell_type": "code",
   "execution_count": 9,
   "id": "aa7d5152",
   "metadata": {},
   "outputs": [
    {
     "data": {
      "text/plain": [
       "True"
      ]
     },
     "execution_count": 9,
     "metadata": {},
     "output_type": "execute_result"
    }
   ],
   "source": [
    "isinstance(c,object)"
   ]
  },
  {
   "cell_type": "markdown",
   "id": "1db750c2",
   "metadata": {},
   "source": [
    "### DATA ATTRIBUTES"
   ]
  },
  {
   "cell_type": "markdown",
   "id": "0faf61a5",
   "metadata": {},
   "source": [
    "Data attribute consists of variable (traits) and methods (behaviours) of an object."
   ]
  },
  {
   "cell_type": "code",
   "execution_count": 10,
   "id": "55381271",
   "metadata": {},
   "outputs": [],
   "source": [
    "class CCord():\n",
    "    coordinate_type = \"Cartesian\" #Class Variable\n",
    "    def __init__(self,x,y):  #x,y are instance variable. Self is instance reference\n",
    "        self.x = x\n",
    "        self.y = y\n",
    "    def __str__(self):\n",
    "        return \"<\"+str(self.x)+\",\"+str(self.y)+\">\"\n",
    "    def __len__(self):\n",
    "        return 2\n",
    "    def __add__(self,other):\n",
    "         return CCord(self.x+other.y,self.y+other.x)"
   ]
  },
  {
   "cell_type": "code",
   "execution_count": 11,
   "id": "da5d6a32",
   "metadata": {},
   "outputs": [],
   "source": [
    "c = CCord(3,4)\n"
   ]
  },
  {
   "cell_type": "code",
   "execution_count": 12,
   "id": "9b4ed119",
   "metadata": {},
   "outputs": [
    {
     "name": "stdout",
     "output_type": "stream",
     "text": [
      "<18,13>\n"
     ]
    }
   ],
   "source": [
    "d = CCord(9,15)\n",
    "e = c + d\n",
    "\n",
    "print(e)"
   ]
  },
  {
   "cell_type": "code",
   "execution_count": 13,
   "id": "b2e338f1",
   "metadata": {},
   "outputs": [
    {
     "name": "stdout",
     "output_type": "stream",
     "text": [
      "[1, 2, 3]\n"
     ]
    }
   ],
   "source": [
    "lst = [1,2,3]\n",
    "print(lst)"
   ]
  },
  {
   "cell_type": "code",
   "execution_count": 14,
   "id": "fa229eaa",
   "metadata": {},
   "outputs": [
    {
     "name": "stdout",
     "output_type": "stream",
     "text": [
      "Cartesian\n"
     ]
    }
   ],
   "source": [
    "print(c.coordinate_type)"
   ]
  },
  {
   "cell_type": "code",
   "execution_count": 15,
   "id": "0e70dcf1",
   "metadata": {},
   "outputs": [],
   "source": [
    "d = CCord(9,4)"
   ]
  },
  {
   "cell_type": "code",
   "execution_count": 16,
   "id": "bfc0b249",
   "metadata": {},
   "outputs": [
    {
     "name": "stdout",
     "output_type": "stream",
     "text": [
      "Cartesian\n"
     ]
    }
   ],
   "source": [
    "print(d.coordinate_type)"
   ]
  },
  {
   "cell_type": "code",
   "execution_count": 17,
   "id": "8f22e1c1",
   "metadata": {},
   "outputs": [
    {
     "data": {
      "text/plain": [
       "'Cartesian'"
      ]
     },
     "execution_count": 17,
     "metadata": {},
     "output_type": "execute_result"
    }
   ],
   "source": [
    "CCord.coordinate_type"
   ]
  },
  {
   "cell_type": "code",
   "execution_count": 18,
   "id": "94387b5a",
   "metadata": {},
   "outputs": [
    {
     "data": {
      "text/plain": [
       "3"
      ]
     },
     "execution_count": 18,
     "metadata": {},
     "output_type": "execute_result"
    }
   ],
   "source": [
    "c.x\n",
    "#BAD Programming style \n",
    "#Invalidates data abstraction and shows variable name internally\n",
    "#Use getters and setters"
   ]
  },
  {
   "cell_type": "code",
   "execution_count": 19,
   "id": "63bcc729",
   "metadata": {},
   "outputs": [],
   "source": [
    "class CCord():\n",
    "    coordinate_type = \"Cartesian\" #Class Variable\n",
    "    def __init__(self,c1,c2):  #x,y are instance variable. Self is instance reference\n",
    "        self.x = c1\n",
    "        self.y = c2\n",
    "    def __str__(self):\n",
    "        return \"<\"+str(self.x)+\",\"+str(self.y)+\">\"\n",
    "    def set_c1(self,c1):\n",
    "        self.x=c1\n",
    "    def set_c2(self,c2):\n",
    "        self.y=c2\n",
    "    def get_c1(self):\n",
    "        return self.x\n",
    "    def get_c2(self):\n",
    "        return self.y"
   ]
  },
  {
   "cell_type": "code",
   "execution_count": 20,
   "id": "c801257d",
   "metadata": {},
   "outputs": [],
   "source": [
    "c = CCord(4,-5)"
   ]
  },
  {
   "cell_type": "code",
   "execution_count": 21,
   "id": "26f0ff4b",
   "metadata": {},
   "outputs": [
    {
     "data": {
      "text/plain": [
       "4"
      ]
     },
     "execution_count": 21,
     "metadata": {},
     "output_type": "execute_result"
    }
   ],
   "source": [
    "c.x #Still you are able access the value"
   ]
  },
  {
   "cell_type": "code",
   "execution_count": 22,
   "id": "657498f6",
   "metadata": {},
   "outputs": [],
   "source": [
    "c.x = 2 #Change the value"
   ]
  },
  {
   "cell_type": "code",
   "execution_count": 23,
   "id": "2e1483a5",
   "metadata": {},
   "outputs": [
    {
     "name": "stdout",
     "output_type": "stream",
     "text": [
      "<2,-5>\n"
     ]
    }
   ],
   "source": [
    "print(c)"
   ]
  },
  {
   "cell_type": "code",
   "execution_count": 24,
   "id": "7b1b1e00",
   "metadata": {},
   "outputs": [],
   "source": [
    "c = CCord(9,3)\n",
    "d = CCord(12,-34)"
   ]
  },
  {
   "cell_type": "code",
   "execution_count": 25,
   "id": "4d7e7a5b",
   "metadata": {},
   "outputs": [],
   "source": [
    "CCord.coordinate_type = \"Fish\" #Even the class variables is accessible!"
   ]
  },
  {
   "cell_type": "code",
   "execution_count": 26,
   "id": "40e622b7",
   "metadata": {},
   "outputs": [
    {
     "data": {
      "text/plain": [
       "'Fish'"
      ]
     },
     "execution_count": 26,
     "metadata": {},
     "output_type": "execute_result"
    }
   ],
   "source": [
    "c.coordinate_type"
   ]
  },
  {
   "cell_type": "code",
   "execution_count": 27,
   "id": "de425cdc",
   "metadata": {},
   "outputs": [
    {
     "data": {
      "text/plain": [
       "'Fish'"
      ]
     },
     "execution_count": 27,
     "metadata": {},
     "output_type": "execute_result"
    }
   ],
   "source": [
    "d.coordinate_type"
   ]
  },
  {
   "cell_type": "code",
   "execution_count": 28,
   "id": "0fb87966",
   "metadata": {},
   "outputs": [],
   "source": [
    "#Trying to make things private--not really. Just name mangling\n",
    "class CCord():\n",
    "    __coordinate_type = \"Cartesian\" #Class Variable\n",
    "    def __init__(self,c1,c2):  #x,y are instance variable. Self is instance reference\n",
    "        self.__x = c1\n",
    "        self.__y = c2\n",
    "    def __str__(self):\n",
    "        return \"<\"+str(self.__x)+\",\"+str(self.__y)+\">\"\n",
    "    def set_c1(self,c1):\n",
    "        self.__x=c1\n",
    "    def set_c2(self,c2):\n",
    "        self.__y=c2\n",
    "    def get_c1(self):\n",
    "        return self.__x\n",
    "    def get_c2(self):\n",
    "        return self.__y"
   ]
  },
  {
   "cell_type": "code",
   "execution_count": 29,
   "id": "706e034d",
   "metadata": {},
   "outputs": [],
   "source": [
    "c = CCord(9,3)\n",
    "d = CCord(12,-34)"
   ]
  },
  {
   "cell_type": "code",
   "execution_count": 30,
   "id": "63915767",
   "metadata": {},
   "outputs": [
    {
     "ename": "AttributeError",
     "evalue": "'CCord' object has no attribute 'x'",
     "output_type": "error",
     "traceback": [
      "\u001b[0;31m---------------------------------------------------------------------------\u001b[0m",
      "\u001b[0;31mAttributeError\u001b[0m                            Traceback (most recent call last)",
      "\u001b[0;32m/tmp/ipykernel_17348/2178408936.py\u001b[0m in \u001b[0;36m<module>\u001b[0;34m\u001b[0m\n\u001b[0;32m----> 1\u001b[0;31m \u001b[0mc\u001b[0m\u001b[0;34m.\u001b[0m\u001b[0mx\u001b[0m\u001b[0;34m\u001b[0m\u001b[0;34m\u001b[0m\u001b[0m\n\u001b[0m",
      "\u001b[0;31mAttributeError\u001b[0m: 'CCord' object has no attribute 'x'"
     ]
    }
   ],
   "source": [
    "c.x"
   ]
  },
  {
   "cell_type": "code",
   "execution_count": 31,
   "id": "fc058225",
   "metadata": {},
   "outputs": [
    {
     "data": {
      "text/plain": [
       "9"
      ]
     },
     "execution_count": 31,
     "metadata": {},
     "output_type": "execute_result"
    }
   ],
   "source": [
    "c.get_c1()"
   ]
  },
  {
   "cell_type": "code",
   "execution_count": 32,
   "id": "eb212983",
   "metadata": {},
   "outputs": [
    {
     "ename": "AttributeError",
     "evalue": "type object 'CCord' has no attribute 'coordinate_type'",
     "output_type": "error",
     "traceback": [
      "\u001b[0;31m---------------------------------------------------------------------------\u001b[0m",
      "\u001b[0;31mAttributeError\u001b[0m                            Traceback (most recent call last)",
      "\u001b[0;32m/tmp/ipykernel_17348/4037429049.py\u001b[0m in \u001b[0;36m<module>\u001b[0;34m\u001b[0m\n\u001b[0;32m----> 1\u001b[0;31m \u001b[0mCCord\u001b[0m\u001b[0;34m.\u001b[0m\u001b[0mcoordinate_type\u001b[0m\u001b[0;34m\u001b[0m\u001b[0;34m\u001b[0m\u001b[0m\n\u001b[0m",
      "\u001b[0;31mAttributeError\u001b[0m: type object 'CCord' has no attribute 'coordinate_type'"
     ]
    }
   ],
   "source": [
    "CCord.coordinate_type"
   ]
  },
  {
   "cell_type": "code",
   "execution_count": 33,
   "id": "944f8bf3",
   "metadata": {},
   "outputs": [
    {
     "data": {
      "text/plain": [
       "9"
      ]
     },
     "execution_count": 33,
     "metadata": {},
     "output_type": "execute_result"
    }
   ],
   "source": [
    "c._CCord__x ## Oops we broke it again!"
   ]
  },
  {
   "cell_type": "markdown",
   "id": "266d8f42",
   "metadata": {},
   "source": [
    "##### Python has no privacy model, there are no access modifiers like in C++ or Java. There are no truly 'protected' or 'private' attributes.\n",
    "\n",
    "##### Always use getters and setters instead of directly accessing the variables via the dot notation. With great powers, cometh greater responsibility."
   ]
  },
  {
   "cell_type": "markdown",
   "id": "158c7c77",
   "metadata": {},
   "source": [
    "### INHERITANCE\n",
    "A child can\n",
    "<p>\n",
    "Can have all the behaviours and traits of the parent\n",
    "</p><p>    \n",
    "+\n",
    "</p><p>\n",
    "Additional traits\n",
    "</p><p>\n",
    "+\n",
    "</p><p>\n",
    "Additional behaviours or modifications of original behaviour\n",
    "</p>"
   ]
  },
  {
   "cell_type": "code",
   "execution_count": 34,
   "id": "b0e823c0",
   "metadata": {},
   "outputs": [],
   "source": [
    "class CCord():\n",
    "    __coordinate_type = \"Cartesian\" #Class Variable\n",
    "    def __init__(self,c1,c2):  #x,y are instance variable. Self is instance reference\n",
    "        self.__x = c1\n",
    "        self.__y = c2\n",
    "    def __str__(self):\n",
    "        return \"<\"+str(self.__x)+\",\"+str(self.__y)+\">\"\n",
    "    def set_c1(self,c1):\n",
    "        self.__x=c1\n",
    "    def set_c2(self,c2):\n",
    "        self.__y=c2\n",
    "    def get_c1(self):\n",
    "        return self.__x\n",
    "    def get_c2(self):\n",
    "        return self.__y\n",
    "\n",
    "\n",
    "class NewCordSys(CCord):\n",
    "    def __str__(self):\n",
    "        #Look at how how x cordinate is accessed. Restrict from usage\n",
    "        #like that - and use getters and setters.\n",
    "        return \"(\"+str(self._CCord__x)+\",\"+str(self.get_c2())+\")\"\n",
    "    def length(self):\n",
    "        return (self.get_c1()**2 + self.get_c2()**2)**0.5"
   ]
  },
  {
   "cell_type": "code",
   "execution_count": 35,
   "id": "76f55cff",
   "metadata": {},
   "outputs": [],
   "source": [
    "nc = NewCordSys(3,4)"
   ]
  },
  {
   "cell_type": "code",
   "execution_count": 36,
   "id": "c257a069",
   "metadata": {},
   "outputs": [
    {
     "name": "stdout",
     "output_type": "stream",
     "text": [
      "(3,4)\n"
     ]
    }
   ],
   "source": [
    "print(nc)"
   ]
  },
  {
   "cell_type": "code",
   "execution_count": 37,
   "id": "4c9797c1",
   "metadata": {
    "scrolled": true
   },
   "outputs": [
    {
     "data": {
      "text/plain": [
       "5.0"
      ]
     },
     "execution_count": 37,
     "metadata": {},
     "output_type": "execute_result"
    }
   ],
   "source": [
    "nc.length()"
   ]
  },
  {
   "cell_type": "code",
   "execution_count": 38,
   "id": "2d456ab7",
   "metadata": {},
   "outputs": [],
   "source": [
    "cc = CCord(4,50)"
   ]
  },
  {
   "cell_type": "code",
   "execution_count": 39,
   "id": "9ec552b7",
   "metadata": {},
   "outputs": [
    {
     "ename": "AttributeError",
     "evalue": "'CCord' object has no attribute 'length'",
     "output_type": "error",
     "traceback": [
      "\u001b[0;31m---------------------------------------------------------------------------\u001b[0m",
      "\u001b[0;31mAttributeError\u001b[0m                            Traceback (most recent call last)",
      "\u001b[0;32m/tmp/ipykernel_17348/3872986132.py\u001b[0m in \u001b[0;36m<module>\u001b[0;34m\u001b[0m\n\u001b[0;32m----> 1\u001b[0;31m \u001b[0mcc\u001b[0m\u001b[0;34m.\u001b[0m\u001b[0mlength\u001b[0m\u001b[0;34m(\u001b[0m\u001b[0;34m)\u001b[0m\u001b[0;34m\u001b[0m\u001b[0;34m\u001b[0m\u001b[0m\n\u001b[0m",
      "\u001b[0;31mAttributeError\u001b[0m: 'CCord' object has no attribute 'length'"
     ]
    }
   ],
   "source": [
    "cc.length()"
   ]
  },
  {
   "cell_type": "code",
   "execution_count": null,
   "id": "651874cf",
   "metadata": {},
   "outputs": [],
   "source": []
  }
 ],
 "metadata": {
  "kernelspec": {
   "display_name": "Python 3 (ipykernel)",
   "language": "python",
   "name": "python3"
  },
  "language_info": {
   "codemirror_mode": {
    "name": "ipython",
    "version": 3
   },
   "file_extension": ".py",
   "mimetype": "text/x-python",
   "name": "python",
   "nbconvert_exporter": "python",
   "pygments_lexer": "ipython3",
   "version": "3.8.8"
  }
 },
 "nbformat": 4,
 "nbformat_minor": 5
}

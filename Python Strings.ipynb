{
 "cells": [
  {
   "cell_type": "code",
   "execution_count": 2,
   "id": "64e08c33",
   "metadata": {},
   "outputs": [
    {
     "name": "stdout",
     "output_type": "stream",
     "text": [
      "\"Python\" course\n"
     ]
    }
   ],
   "source": [
    "course_1 = '\"Python\" course'\n",
    "print(course_1)"
   ]
  },
  {
   "cell_type": "code",
   "execution_count": 4,
   "id": "91b3f104",
   "metadata": {},
   "outputs": [
    {
     "name": "stdout",
     "output_type": "stream",
     "text": [
      "Let's Begin\n"
     ]
    }
   ],
   "source": [
    "course_2 = \"Let's Begin\"\n",
    "print(course_2)"
   ]
  },
  {
   "cell_type": "code",
   "execution_count": 6,
   "id": "14c61420",
   "metadata": {},
   "outputs": [
    {
     "data": {
      "text/plain": [
       "str"
      ]
     },
     "execution_count": 6,
     "metadata": {},
     "output_type": "execute_result"
    }
   ],
   "source": [
    "course_3 = '''\n",
    "Hello All,\n",
    "Let's Begin \"Python\" Course\n",
    "'''\n",
    "type(course_3)"
   ]
  },
  {
   "cell_type": "code",
   "execution_count": 9,
   "id": "b9f6b640",
   "metadata": {},
   "outputs": [
    {
     "data": {
      "text/plain": [
       "'s'"
      ]
     },
     "execution_count": 9,
     "metadata": {},
     "output_type": "execute_result"
    }
   ],
   "source": [
    "#Character from String\n",
    "val = \"TrailBlazers\"\n",
    "val[11]"
   ]
  },
  {
   "cell_type": "code",
   "execution_count": 18,
   "id": "7cc3ed28",
   "metadata": {},
   "outputs": [
    {
     "data": {
      "text/plain": [
       "'s'"
      ]
     },
     "execution_count": 18,
     "metadata": {},
     "output_type": "execute_result"
    }
   ],
   "source": [
    "val[-1]"
   ]
  },
  {
   "cell_type": "code",
   "execution_count": 21,
   "id": "87fba88b",
   "metadata": {},
   "outputs": [
    {
     "data": {
      "text/plain": [
       "12"
      ]
     },
     "execution_count": 21,
     "metadata": {},
     "output_type": "execute_result"
    }
   ],
   "source": [
    "len(val)"
   ]
  },
  {
   "cell_type": "code",
   "execution_count": 10,
   "id": "3b18dc28",
   "metadata": {},
   "outputs": [
    {
     "data": {
      "text/plain": [
       "'T'"
      ]
     },
     "execution_count": 10,
     "metadata": {},
     "output_type": "execute_result"
    }
   ],
   "source": [
    "val[-12]"
   ]
  },
  {
   "cell_type": "markdown",
   "id": "44861dc3",
   "metadata": {},
   "source": [
    "### So in python String is a list of characters. We will look at list seperately, but they are similar to arrays\n",
    "### They support positive and negative indexing where positive indexing start from 0 and negative starts from -1\n"
   ]
  },
  {
   "cell_type": "code",
   "execution_count": 43,
   "id": "b11a3d66",
   "metadata": {},
   "outputs": [
    {
     "name": "stdout",
     "output_type": "stream",
     "text": [
      "PY~TH~ON\n"
     ]
    }
   ],
   "source": [
    "#STRING -> P,Y,T,H,O,N\n",
    "#INDEX ->  0,1,2,3,4,5\n",
    "#NEG INDEX-> -6,-5,-4,-3,-2,-1\n",
    "\n",
    "lang=\"PYTHON\"\n",
    "print(lang[-6]+lang[-5]+\"~\"+lang[2]+lang[3]+\"~\"+lang[4]+lang[-1])"
   ]
  },
  {
   "cell_type": "code",
   "execution_count": 44,
   "id": "9c66fa0c",
   "metadata": {},
   "outputs": [
    {
     "data": {
      "text/plain": [
       "'PTO'"
      ]
     },
     "execution_count": 44,
     "metadata": {},
     "output_type": "execute_result"
    }
   ],
   "source": [
    "# Lists support Splicing/Ranging - we can give an array like [startPos:EndPos] and it will pick all data from startPos \n",
    "# but not including EndPos. Let's look at it.\n",
    "# [startpos,endpos,step]\n",
    "lang[0::2]"
   ]
  },
  {
   "cell_type": "code",
   "execution_count": 32,
   "id": "11f38ee4",
   "metadata": {},
   "outputs": [
    {
     "data": {
      "text/plain": [
       "'PYTHON'"
      ]
     },
     "execution_count": 32,
     "metadata": {},
     "output_type": "execute_result"
    }
   ],
   "source": [
    "lang[-6:]"
   ]
  },
  {
   "cell_type": "markdown",
   "id": "048dead4",
   "metadata": {},
   "source": [
    "lang[:-1] "
   ]
  },
  {
   "cell_type": "code",
   "execution_count": 37,
   "id": "716a3769",
   "metadata": {},
   "outputs": [
    {
     "data": {
      "text/plain": [
       "'PYTHON'"
      ]
     },
     "execution_count": 37,
     "metadata": {},
     "output_type": "execute_result"
    }
   ],
   "source": [
    "lang[0:] #Start from 0 and get everything"
   ]
  },
  {
   "cell_type": "markdown",
   "id": "23349f5b",
   "metadata": {},
   "source": [
    "###### Print full string"
   ]
  },
  {
   "cell_type": "code",
   "execution_count": 45,
   "id": "762ac95f",
   "metadata": {},
   "outputs": [
    {
     "data": {
      "text/plain": [
       "'PYTHON'"
      ]
     },
     "execution_count": 45,
     "metadata": {},
     "output_type": "execute_result"
    }
   ],
   "source": [
    "lang[:] #No need to give an end pos / negative index for getting full string"
   ]
  },
  {
   "cell_type": "code",
   "execution_count": 50,
   "id": "22dc8dfc",
   "metadata": {},
   "outputs": [
    {
     "name": "stdout",
     "output_type": "stream",
     "text": [
      "My name is Raj\n"
     ]
    }
   ],
   "source": [
    "name = \"Raj\"\n",
    "print(\"My name is\", name)"
   ]
  },
  {
   "cell_type": "markdown",
   "id": "bfaaa16a",
   "metadata": {},
   "source": [
    "# Fomratted String - old manner"
   ]
  },
  {
   "cell_type": "code",
   "execution_count": 70,
   "id": "beb7c5a4",
   "metadata": {
    "scrolled": true
   },
   "outputs": [
    {
     "name": "stdout",
     "output_type": "stream",
     "text": [
      "Hello 12\n",
      "You owe me Rs. 100.12\n",
      "By 12 day\n"
     ]
    }
   ],
   "source": [
    "print( \"Hello %s\"%(12))\n",
    "print(\"You owe me Rs. %.2f\"%(100.1221))\n",
    "print(\"By %d day\"%(12))"
   ]
  },
  {
   "cell_type": "markdown",
   "id": "92342bda",
   "metadata": {},
   "source": [
    "# Formatted String - new manner"
   ]
  },
  {
   "cell_type": "code",
   "execution_count": 86,
   "id": "b40d35bc",
   "metadata": {},
   "outputs": [
    {
     "name": "stdout",
     "output_type": "stream",
     "text": [
      "Hello Ram, you owe me Rs.100.5678 by 23 of this month \n"
     ]
    }
   ],
   "source": [
    "print( \"Hello {}, \\\n",
    "you owe me Rs.{:.4f} by {} of this month \\\n",
    "\".format(\"Ram\",100.5678459,23))"
   ]
  },
  {
   "cell_type": "code",
   "execution_count": 88,
   "id": "c63f9d5d",
   "metadata": {},
   "outputs": [
    {
     "name": "stdout",
     "output_type": "stream",
     "text": [
      "Hello Ram, you owe me Rs.100.5678 by 23 of this month \n"
     ]
    }
   ],
   "source": [
    "print( \"Hello {0}, \\\n",
    "you owe me Rs.{2:.4f} by {1} of this month \\\n",
    "\".format(\"Ram\",20+3,100.5678459)) #Expr and Positions"
   ]
  },
  {
   "cell_type": "code",
   "execution_count": 120,
   "id": "43f9a88b",
   "metadata": {},
   "outputs": [
    {
     "name": "stdout",
     "output_type": "stream",
     "text": [
      "hello Ram, you own 100.57 by 23\n"
     ]
    }
   ],
   "source": [
    "name = \"Ram\"\n",
    "amt = 100.57445\n",
    "day = 23\n",
    "\n",
    "\n",
    "stringVal = f\"hello {name}, you own {amt:0.2f} by {day}\" #fstring\n",
    "stringVal = f\"hello {name1},you own\"\n",
    "print(stringVal)\n",
    "\n",
    "\n",
    "\n",
    "\n",
    "\n",
    "#stringVal = f\"Hello '{name}', \\\n",
    "#you owe me Rs.{amt:0.2f} by {day} of this month\"\n",
    "#print(stringVal)"
   ]
  },
  {
   "cell_type": "code",
   "execution_count": 124,
   "id": "27ebec5c",
   "metadata": {},
   "outputs": [
    {
     "name": "stdout",
     "output_type": "stream",
     "text": [
      "Hello 'Ram', you owe Rs.100.23 by 23 of the month\n"
     ]
    }
   ],
   "source": [
    "name = \"Ram\"\n",
    "amt = 100.235\n",
    "day = 23\n",
    "stringVal = f\"Hello '{name}', you owe Rs.{amt:0.2f} by {day} of the month\"\n",
    "print(stringVal)"
   ]
  },
  {
   "cell_type": "code",
   "execution_count": 130,
   "id": "edd1a652",
   "metadata": {},
   "outputs": [],
   "source": [
    "from string import Template"
   ]
  },
  {
   "cell_type": "code",
   "execution_count": 134,
   "id": "033e9f2c",
   "metadata": {},
   "outputs": [],
   "source": [
    "templated_str = Template('Hello $name1, you owe me Rs.$amt by $day1 of this month')"
   ]
  },
  {
   "cell_type": "code",
   "execution_count": 136,
   "id": "ba2e37cf",
   "metadata": {},
   "outputs": [
    {
     "data": {
      "text/plain": [
       "'Hello Raj, you owe me Rs.100.23 by 23 of this month'"
      ]
     },
     "execution_count": 136,
     "metadata": {},
     "output_type": "execute_result"
    }
   ],
   "source": [
    "templated_str.substitute(name1=\"Raj\",amt=round(amt,2),day1=day)"
   ]
  },
  {
   "cell_type": "markdown",
   "id": "a7edadf2",
   "metadata": {},
   "source": [
    "#### Historically, string formatting has been a common source of security holes in web-based applications, particularly if the string formatting system allows arbitrary expressions to be embedded in format strings.\n",
    "\n",
    "#### The best way to use string formatting in a way that does not create potential security holes is to never use format strings that come from an untrusted source."
   ]
  },
  {
   "cell_type": "markdown",
   "id": "eff89308",
   "metadata": {},
   "source": [
    "# STRING METHODS"
   ]
  },
  {
   "cell_type": "code",
   "execution_count": 143,
   "id": "8b7f3884",
   "metadata": {},
   "outputs": [
    {
     "data": {
      "text/plain": [
       "5"
      ]
     },
     "execution_count": 143,
     "metadata": {},
     "output_type": "execute_result"
    }
   ],
   "source": [
    "len(\"Hello\")"
   ]
  },
  {
   "cell_type": "code",
   "execution_count": 144,
   "id": "393c3419",
   "metadata": {},
   "outputs": [
    {
     "data": {
      "text/plain": [
       "'Hello'"
      ]
     },
     "execution_count": 144,
     "metadata": {},
     "output_type": "execute_result"
    }
   ],
   "source": [
    "\"hello\".capitalize()"
   ]
  },
  {
   "cell_type": "code",
   "execution_count": 145,
   "id": "8a9e3cab",
   "metadata": {},
   "outputs": [
    {
     "data": {
      "text/plain": [
       "'HELLO'"
      ]
     },
     "execution_count": 145,
     "metadata": {},
     "output_type": "execute_result"
    }
   ],
   "source": [
    "\"hello\".upper()"
   ]
  },
  {
   "cell_type": "code",
   "execution_count": 137,
   "id": "df848f4a",
   "metadata": {},
   "outputs": [
    {
     "data": {
      "text/plain": [
       "0"
      ]
     },
     "execution_count": 137,
     "metadata": {},
     "output_type": "execute_result"
    }
   ],
   "source": [
    "\"hello\".find('h') #Case Sensitive"
   ]
  },
  {
   "cell_type": "code",
   "execution_count": 150,
   "id": "a2bbe016",
   "metadata": {},
   "outputs": [
    {
     "data": {
      "text/plain": [
       "'hellllo'"
      ]
     },
     "execution_count": 150,
     "metadata": {},
     "output_type": "execute_result"
    }
   ],
   "source": [
    "\"hello\".replace('l','ll')"
   ]
  },
  {
   "cell_type": "code",
   "execution_count": 153,
   "id": "ca229f04",
   "metadata": {},
   "outputs": [
    {
     "data": {
      "text/plain": [
       "False"
      ]
     },
     "execution_count": 153,
     "metadata": {},
     "output_type": "execute_result"
    }
   ],
   "source": [
    "\"Z\" in \"hello\""
   ]
  },
  {
   "cell_type": "code",
   "execution_count": 139,
   "id": "2b200dff",
   "metadata": {},
   "outputs": [
    {
     "data": {
      "text/plain": [
       "'hi'"
      ]
     },
     "execution_count": 139,
     "metadata": {},
     "output_type": "execute_result"
    }
   ],
   "source": [
    "a = \"hello\"\n",
    "a = \"hi\"\n",
    "a"
   ]
  },
  {
   "cell_type": "code",
   "execution_count": 140,
   "id": "f752fbe1",
   "metadata": {},
   "outputs": [
    {
     "ename": "TypeError",
     "evalue": "'str' object does not support item assignment",
     "output_type": "error",
     "traceback": [
      "\u001b[0;31m---------------------------------------------------------------------------\u001b[0m",
      "\u001b[0;31mTypeError\u001b[0m                                 Traceback (most recent call last)",
      "\u001b[0;32m/tmp/ipykernel_1146343/3386383378.py\u001b[0m in \u001b[0;36m<module>\u001b[0;34m\u001b[0m\n\u001b[0;32m----> 1\u001b[0;31m \u001b[0ma\u001b[0m\u001b[0;34m[\u001b[0m\u001b[0;36m0\u001b[0m\u001b[0;34m]\u001b[0m \u001b[0;34m=\u001b[0m \u001b[0;34m\"H\"\u001b[0m \u001b[0;31m#Immutable\u001b[0m\u001b[0;34m\u001b[0m\u001b[0;34m\u001b[0m\u001b[0m\n\u001b[0m",
      "\u001b[0;31mTypeError\u001b[0m: 'str' object does not support item assignment"
     ]
    }
   ],
   "source": [
    "a[0] = \"H\" #Immutable"
   ]
  },
  {
   "cell_type": "code",
   "execution_count": null,
   "id": "c8969964",
   "metadata": {},
   "outputs": [],
   "source": []
  }
 ],
 "metadata": {
  "kernelspec": {
   "display_name": "Python 3 (ipykernel)",
   "language": "python",
   "name": "python3"
  },
  "language_info": {
   "codemirror_mode": {
    "name": "ipython",
    "version": 3
   },
   "file_extension": ".py",
   "mimetype": "text/x-python",
   "name": "python",
   "nbconvert_exporter": "python",
   "pygments_lexer": "ipython3",
   "version": "3.8.8"
  }
 },
 "nbformat": 4,
 "nbformat_minor": 5
}
